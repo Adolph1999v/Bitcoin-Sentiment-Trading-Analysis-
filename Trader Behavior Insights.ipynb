{
  "nbformat": 4,
  "nbformat_minor": 0,
  "metadata": {
    "colab": {
      "provenance": []
    },
    "kernelspec": {
      "name": "python3",
      "display_name": "Python 3"
    },
    "language_info": {
      "name": "python"
    }
  },
  "cells": [
    {
      "cell_type": "markdown",
      "source": [
        "#Introduction\n",
        "\n",
        "The objective of this project is to explore the relationship between trader performance and market sentiment, uncover hidden patterns, and deliver insights that can drive smarter trading  strategies using two primary datasets:\n",
        "\n",
        "\n",
        "\n",
        "*   Bitcoin Market Sentiment Dataset\n",
        "*   Historical Trader Data from Hyperliquid\n",
        "\n",
        "The goal is to analyze whether market sentiment impacts trader outcomes, identify potential patterns in trading behavior, and provide actionable insights that could support smarter trading strategies.\n",
        "\n",
        "This project involves:\n",
        "\n",
        "\n",
        "*  Data cleaning and preprocessing for both datasets.\n",
        "*  Exploratory data analysis (EDA) to visualize trends, distributions, and correlations.\n",
        "\n",
        "*  Simple predictive modeling to estimate trader profit/loss based on sentiment and trading metrics.\n",
        "*  Discussion of results and suggestions for future improvements to enhance prediction accuracy.\n",
        "\n",
        "\n",
        "\n",
        "\n"
      ],
      "metadata": {
        "id": "cBpLipzlO0b1"
      }
    },
    {
      "cell_type": "markdown",
      "source": [
        "#Import the libraries"
      ],
      "metadata": {
        "id": "5PAnBJ12R5VK"
      }
    },
    {
      "cell_type": "code",
      "execution_count": 318,
      "metadata": {
        "id": "nwwgb0XFITg4"
      },
      "outputs": [],
      "source": [
        "import pandas as pd\n",
        "import numpy as np\n",
        "import matplotlib.pyplot as plt\n",
        "import seaborn as sns\n",
        "\n",
        "from sklearn.model_selection import train_test_split\n",
        "from sklearn.linear_model import LinearRegression\n",
        "from sklearn.ensemble import RandomForestRegressor\n",
        "from sklearn.metrics import mean_absolute_error, r2_score"
      ]
    },
    {
      "cell_type": "markdown",
      "source": [
        "#Loading both the datasets"
      ],
      "metadata": {
        "id": "FDnc7cwjIfQ9"
      }
    },
    {
      "cell_type": "code",
      "source": [
        "# Loading the Bitcoin Market Sentiment Dataset\n",
        "\n",
        "df_greed = pd.read_csv(\"fear_greed_index.csv\")\n",
        "df_greed.head(5)"
      ],
      "metadata": {
        "colab": {
          "base_uri": "https://localhost:8080/",
          "height": 206
        },
        "id": "iKfzEuhPIbdx",
        "outputId": "0172f458-9b06-4431-ce02-a2192052a78a"
      },
      "execution_count": 319,
      "outputs": [
        {
          "output_type": "execute_result",
          "data": {
            "text/plain": [
              "    timestamp  value classification        date\n",
              "0  1517463000     30           Fear  2018-02-01\n",
              "1  1517549400     15   Extreme Fear  2018-02-02\n",
              "2  1517635800     40           Fear  2018-02-03\n",
              "3  1517722200     24   Extreme Fear  2018-02-04\n",
              "4  1517808600     11   Extreme Fear  2018-02-05"
            ],
            "text/html": [
              "\n",
              "  <div id=\"df-4b86ab7d-83ce-457e-9abc-129dbc85a12e\" class=\"colab-df-container\">\n",
              "    <div>\n",
              "<style scoped>\n",
              "    .dataframe tbody tr th:only-of-type {\n",
              "        vertical-align: middle;\n",
              "    }\n",
              "\n",
              "    .dataframe tbody tr th {\n",
              "        vertical-align: top;\n",
              "    }\n",
              "\n",
              "    .dataframe thead th {\n",
              "        text-align: right;\n",
              "    }\n",
              "</style>\n",
              "<table border=\"1\" class=\"dataframe\">\n",
              "  <thead>\n",
              "    <tr style=\"text-align: right;\">\n",
              "      <th></th>\n",
              "      <th>timestamp</th>\n",
              "      <th>value</th>\n",
              "      <th>classification</th>\n",
              "      <th>date</th>\n",
              "    </tr>\n",
              "  </thead>\n",
              "  <tbody>\n",
              "    <tr>\n",
              "      <th>0</th>\n",
              "      <td>1517463000</td>\n",
              "      <td>30</td>\n",
              "      <td>Fear</td>\n",
              "      <td>2018-02-01</td>\n",
              "    </tr>\n",
              "    <tr>\n",
              "      <th>1</th>\n",
              "      <td>1517549400</td>\n",
              "      <td>15</td>\n",
              "      <td>Extreme Fear</td>\n",
              "      <td>2018-02-02</td>\n",
              "    </tr>\n",
              "    <tr>\n",
              "      <th>2</th>\n",
              "      <td>1517635800</td>\n",
              "      <td>40</td>\n",
              "      <td>Fear</td>\n",
              "      <td>2018-02-03</td>\n",
              "    </tr>\n",
              "    <tr>\n",
              "      <th>3</th>\n",
              "      <td>1517722200</td>\n",
              "      <td>24</td>\n",
              "      <td>Extreme Fear</td>\n",
              "      <td>2018-02-04</td>\n",
              "    </tr>\n",
              "    <tr>\n",
              "      <th>4</th>\n",
              "      <td>1517808600</td>\n",
              "      <td>11</td>\n",
              "      <td>Extreme Fear</td>\n",
              "      <td>2018-02-05</td>\n",
              "    </tr>\n",
              "  </tbody>\n",
              "</table>\n",
              "</div>\n",
              "    <div class=\"colab-df-buttons\">\n",
              "\n",
              "  <div class=\"colab-df-container\">\n",
              "    <button class=\"colab-df-convert\" onclick=\"convertToInteractive('df-4b86ab7d-83ce-457e-9abc-129dbc85a12e')\"\n",
              "            title=\"Convert this dataframe to an interactive table.\"\n",
              "            style=\"display:none;\">\n",
              "\n",
              "  <svg xmlns=\"http://www.w3.org/2000/svg\" height=\"24px\" viewBox=\"0 -960 960 960\">\n",
              "    <path d=\"M120-120v-720h720v720H120Zm60-500h600v-160H180v160Zm220 220h160v-160H400v160Zm0 220h160v-160H400v160ZM180-400h160v-160H180v160Zm440 0h160v-160H620v160ZM180-180h160v-160H180v160Zm440 0h160v-160H620v160Z\"/>\n",
              "  </svg>\n",
              "    </button>\n",
              "\n",
              "  <style>\n",
              "    .colab-df-container {\n",
              "      display:flex;\n",
              "      gap: 12px;\n",
              "    }\n",
              "\n",
              "    .colab-df-convert {\n",
              "      background-color: #E8F0FE;\n",
              "      border: none;\n",
              "      border-radius: 50%;\n",
              "      cursor: pointer;\n",
              "      display: none;\n",
              "      fill: #1967D2;\n",
              "      height: 32px;\n",
              "      padding: 0 0 0 0;\n",
              "      width: 32px;\n",
              "    }\n",
              "\n",
              "    .colab-df-convert:hover {\n",
              "      background-color: #E2EBFA;\n",
              "      box-shadow: 0px 1px 2px rgba(60, 64, 67, 0.3), 0px 1px 3px 1px rgba(60, 64, 67, 0.15);\n",
              "      fill: #174EA6;\n",
              "    }\n",
              "\n",
              "    .colab-df-buttons div {\n",
              "      margin-bottom: 4px;\n",
              "    }\n",
              "\n",
              "    [theme=dark] .colab-df-convert {\n",
              "      background-color: #3B4455;\n",
              "      fill: #D2E3FC;\n",
              "    }\n",
              "\n",
              "    [theme=dark] .colab-df-convert:hover {\n",
              "      background-color: #434B5C;\n",
              "      box-shadow: 0px 1px 3px 1px rgba(0, 0, 0, 0.15);\n",
              "      filter: drop-shadow(0px 1px 2px rgba(0, 0, 0, 0.3));\n",
              "      fill: #FFFFFF;\n",
              "    }\n",
              "  </style>\n",
              "\n",
              "    <script>\n",
              "      const buttonEl =\n",
              "        document.querySelector('#df-4b86ab7d-83ce-457e-9abc-129dbc85a12e button.colab-df-convert');\n",
              "      buttonEl.style.display =\n",
              "        google.colab.kernel.accessAllowed ? 'block' : 'none';\n",
              "\n",
              "      async function convertToInteractive(key) {\n",
              "        const element = document.querySelector('#df-4b86ab7d-83ce-457e-9abc-129dbc85a12e');\n",
              "        const dataTable =\n",
              "          await google.colab.kernel.invokeFunction('convertToInteractive',\n",
              "                                                    [key], {});\n",
              "        if (!dataTable) return;\n",
              "\n",
              "        const docLinkHtml = 'Like what you see? Visit the ' +\n",
              "          '<a target=\"_blank\" href=https://colab.research.google.com/notebooks/data_table.ipynb>data table notebook</a>'\n",
              "          + ' to learn more about interactive tables.';\n",
              "        element.innerHTML = '';\n",
              "        dataTable['output_type'] = 'display_data';\n",
              "        await google.colab.output.renderOutput(dataTable, element);\n",
              "        const docLink = document.createElement('div');\n",
              "        docLink.innerHTML = docLinkHtml;\n",
              "        element.appendChild(docLink);\n",
              "      }\n",
              "    </script>\n",
              "  </div>\n",
              "\n",
              "\n",
              "    <div id=\"df-29ef03bd-55db-4726-bb9f-39d0db14606f\">\n",
              "      <button class=\"colab-df-quickchart\" onclick=\"quickchart('df-29ef03bd-55db-4726-bb9f-39d0db14606f')\"\n",
              "                title=\"Suggest charts\"\n",
              "                style=\"display:none;\">\n",
              "\n",
              "<svg xmlns=\"http://www.w3.org/2000/svg\" height=\"24px\"viewBox=\"0 0 24 24\"\n",
              "     width=\"24px\">\n",
              "    <g>\n",
              "        <path d=\"M19 3H5c-1.1 0-2 .9-2 2v14c0 1.1.9 2 2 2h14c1.1 0 2-.9 2-2V5c0-1.1-.9-2-2-2zM9 17H7v-7h2v7zm4 0h-2V7h2v10zm4 0h-2v-4h2v4z\"/>\n",
              "    </g>\n",
              "</svg>\n",
              "      </button>\n",
              "\n",
              "<style>\n",
              "  .colab-df-quickchart {\n",
              "      --bg-color: #E8F0FE;\n",
              "      --fill-color: #1967D2;\n",
              "      --hover-bg-color: #E2EBFA;\n",
              "      --hover-fill-color: #174EA6;\n",
              "      --disabled-fill-color: #AAA;\n",
              "      --disabled-bg-color: #DDD;\n",
              "  }\n",
              "\n",
              "  [theme=dark] .colab-df-quickchart {\n",
              "      --bg-color: #3B4455;\n",
              "      --fill-color: #D2E3FC;\n",
              "      --hover-bg-color: #434B5C;\n",
              "      --hover-fill-color: #FFFFFF;\n",
              "      --disabled-bg-color: #3B4455;\n",
              "      --disabled-fill-color: #666;\n",
              "  }\n",
              "\n",
              "  .colab-df-quickchart {\n",
              "    background-color: var(--bg-color);\n",
              "    border: none;\n",
              "    border-radius: 50%;\n",
              "    cursor: pointer;\n",
              "    display: none;\n",
              "    fill: var(--fill-color);\n",
              "    height: 32px;\n",
              "    padding: 0;\n",
              "    width: 32px;\n",
              "  }\n",
              "\n",
              "  .colab-df-quickchart:hover {\n",
              "    background-color: var(--hover-bg-color);\n",
              "    box-shadow: 0 1px 2px rgba(60, 64, 67, 0.3), 0 1px 3px 1px rgba(60, 64, 67, 0.15);\n",
              "    fill: var(--button-hover-fill-color);\n",
              "  }\n",
              "\n",
              "  .colab-df-quickchart-complete:disabled,\n",
              "  .colab-df-quickchart-complete:disabled:hover {\n",
              "    background-color: var(--disabled-bg-color);\n",
              "    fill: var(--disabled-fill-color);\n",
              "    box-shadow: none;\n",
              "  }\n",
              "\n",
              "  .colab-df-spinner {\n",
              "    border: 2px solid var(--fill-color);\n",
              "    border-color: transparent;\n",
              "    border-bottom-color: var(--fill-color);\n",
              "    animation:\n",
              "      spin 1s steps(1) infinite;\n",
              "  }\n",
              "\n",
              "  @keyframes spin {\n",
              "    0% {\n",
              "      border-color: transparent;\n",
              "      border-bottom-color: var(--fill-color);\n",
              "      border-left-color: var(--fill-color);\n",
              "    }\n",
              "    20% {\n",
              "      border-color: transparent;\n",
              "      border-left-color: var(--fill-color);\n",
              "      border-top-color: var(--fill-color);\n",
              "    }\n",
              "    30% {\n",
              "      border-color: transparent;\n",
              "      border-left-color: var(--fill-color);\n",
              "      border-top-color: var(--fill-color);\n",
              "      border-right-color: var(--fill-color);\n",
              "    }\n",
              "    40% {\n",
              "      border-color: transparent;\n",
              "      border-right-color: var(--fill-color);\n",
              "      border-top-color: var(--fill-color);\n",
              "    }\n",
              "    60% {\n",
              "      border-color: transparent;\n",
              "      border-right-color: var(--fill-color);\n",
              "    }\n",
              "    80% {\n",
              "      border-color: transparent;\n",
              "      border-right-color: var(--fill-color);\n",
              "      border-bottom-color: var(--fill-color);\n",
              "    }\n",
              "    90% {\n",
              "      border-color: transparent;\n",
              "      border-bottom-color: var(--fill-color);\n",
              "    }\n",
              "  }\n",
              "</style>\n",
              "\n",
              "      <script>\n",
              "        async function quickchart(key) {\n",
              "          const quickchartButtonEl =\n",
              "            document.querySelector('#' + key + ' button');\n",
              "          quickchartButtonEl.disabled = true;  // To prevent multiple clicks.\n",
              "          quickchartButtonEl.classList.add('colab-df-spinner');\n",
              "          try {\n",
              "            const charts = await google.colab.kernel.invokeFunction(\n",
              "                'suggestCharts', [key], {});\n",
              "          } catch (error) {\n",
              "            console.error('Error during call to suggestCharts:', error);\n",
              "          }\n",
              "          quickchartButtonEl.classList.remove('colab-df-spinner');\n",
              "          quickchartButtonEl.classList.add('colab-df-quickchart-complete');\n",
              "        }\n",
              "        (() => {\n",
              "          let quickchartButtonEl =\n",
              "            document.querySelector('#df-29ef03bd-55db-4726-bb9f-39d0db14606f button');\n",
              "          quickchartButtonEl.style.display =\n",
              "            google.colab.kernel.accessAllowed ? 'block' : 'none';\n",
              "        })();\n",
              "      </script>\n",
              "    </div>\n",
              "\n",
              "    </div>\n",
              "  </div>\n"
            ],
            "application/vnd.google.colaboratory.intrinsic+json": {
              "type": "dataframe",
              "variable_name": "df_greed",
              "summary": "{\n  \"name\": \"df_greed\",\n  \"rows\": 2644,\n  \"fields\": [\n    {\n      \"column\": \"timestamp\",\n      \"properties\": {\n        \"dtype\": \"number\",\n        \"std\": 65979674,\n        \"min\": 1517463000,\n        \"max\": 1746163800,\n        \"num_unique_values\": 2644,\n        \"samples\": [\n          1594531800,\n          1613626200,\n          1630819800\n        ],\n        \"semantic_type\": \"\",\n        \"description\": \"\"\n      }\n    },\n    {\n      \"column\": \"value\",\n      \"properties\": {\n        \"dtype\": \"number\",\n        \"std\": 21,\n        \"min\": 5,\n        \"max\": 95,\n        \"num_unique_values\": 90,\n        \"samples\": [\n          61,\n          47,\n          65\n        ],\n        \"semantic_type\": \"\",\n        \"description\": \"\"\n      }\n    },\n    {\n      \"column\": \"classification\",\n      \"properties\": {\n        \"dtype\": \"category\",\n        \"num_unique_values\": 5,\n        \"samples\": [\n          \"Extreme Fear\",\n          \"Extreme Greed\",\n          \"Neutral\"\n        ],\n        \"semantic_type\": \"\",\n        \"description\": \"\"\n      }\n    },\n    {\n      \"column\": \"date\",\n      \"properties\": {\n        \"dtype\": \"object\",\n        \"num_unique_values\": 2644,\n        \"samples\": [\n          \"2020-07-12\",\n          \"2021-02-18\",\n          \"2021-09-05\"\n        ],\n        \"semantic_type\": \"\",\n        \"description\": \"\"\n      }\n    }\n  ]\n}"
            }
          },
          "metadata": {},
          "execution_count": 319
        }
      ]
    },
    {
      "cell_type": "code",
      "source": [
        "#Loading the Historical Trader Data from Hyperliquid\n",
        "\n",
        "df_hist = pd.read_csv(\"historical_data.csv\")\n",
        "df_hist.head(5)"
      ],
      "metadata": {
        "colab": {
          "base_uri": "https://localhost:8080/",
          "height": 206
        },
        "id": "jTdVA_PWUP0R",
        "outputId": "f9b3817c-e190-4c11-88f5-f83414c8a2b6"
      },
      "execution_count": 320,
      "outputs": [
        {
          "output_type": "execute_result",
          "data": {
            "text/plain": [
              "                                      Account  Coin  Execution Price  \\\n",
              "0  0xae5eacaf9c6b9111fd53034a602c192a04e082ed  @107           7.9769   \n",
              "1  0xae5eacaf9c6b9111fd53034a602c192a04e082ed  @107           7.9800   \n",
              "2  0xae5eacaf9c6b9111fd53034a602c192a04e082ed  @107           7.9855   \n",
              "3  0xae5eacaf9c6b9111fd53034a602c192a04e082ed  @107           7.9874   \n",
              "4  0xae5eacaf9c6b9111fd53034a602c192a04e082ed  @107           7.9894   \n",
              "\n",
              "   Size Tokens  Size USD Side     Timestamp IST  Start Position Direction  \\\n",
              "0       986.87   7872.16  BUY  02-12-2024 22:50        0.000000       Buy   \n",
              "1        16.00    127.68  BUY  02-12-2024 22:50      986.524596       Buy   \n",
              "2       144.09   1150.63  BUY  02-12-2024 22:50     1002.518996       Buy   \n",
              "3       142.98   1142.04  BUY  02-12-2024 22:50     1146.558564       Buy   \n",
              "4         8.73     69.75  BUY  02-12-2024 22:50     1289.488521       Buy   \n",
              "\n",
              "   Closed PnL                                   Transaction Hash     Order ID  \\\n",
              "0         0.0  0xec09451986a1874e3a980418412fcd0201f500c95bac...  52017706630   \n",
              "1         0.0  0xec09451986a1874e3a980418412fcd0201f500c95bac...  52017706630   \n",
              "2         0.0  0xec09451986a1874e3a980418412fcd0201f500c95bac...  52017706630   \n",
              "3         0.0  0xec09451986a1874e3a980418412fcd0201f500c95bac...  52017706630   \n",
              "4         0.0  0xec09451986a1874e3a980418412fcd0201f500c95bac...  52017706630   \n",
              "\n",
              "   Crossed       Fee      Trade ID     Timestamp  \n",
              "0     True  0.345404  8.950000e+14  1.730000e+12  \n",
              "1     True  0.005600  4.430000e+14  1.730000e+12  \n",
              "2     True  0.050431  6.600000e+14  1.730000e+12  \n",
              "3     True  0.050043  1.080000e+15  1.730000e+12  \n",
              "4     True  0.003055  1.050000e+15  1.730000e+12  "
            ],
            "text/html": [
              "\n",
              "  <div id=\"df-8835145b-d46d-41cf-a960-4eb89f68b730\" class=\"colab-df-container\">\n",
              "    <div>\n",
              "<style scoped>\n",
              "    .dataframe tbody tr th:only-of-type {\n",
              "        vertical-align: middle;\n",
              "    }\n",
              "\n",
              "    .dataframe tbody tr th {\n",
              "        vertical-align: top;\n",
              "    }\n",
              "\n",
              "    .dataframe thead th {\n",
              "        text-align: right;\n",
              "    }\n",
              "</style>\n",
              "<table border=\"1\" class=\"dataframe\">\n",
              "  <thead>\n",
              "    <tr style=\"text-align: right;\">\n",
              "      <th></th>\n",
              "      <th>Account</th>\n",
              "      <th>Coin</th>\n",
              "      <th>Execution Price</th>\n",
              "      <th>Size Tokens</th>\n",
              "      <th>Size USD</th>\n",
              "      <th>Side</th>\n",
              "      <th>Timestamp IST</th>\n",
              "      <th>Start Position</th>\n",
              "      <th>Direction</th>\n",
              "      <th>Closed PnL</th>\n",
              "      <th>Transaction Hash</th>\n",
              "      <th>Order ID</th>\n",
              "      <th>Crossed</th>\n",
              "      <th>Fee</th>\n",
              "      <th>Trade ID</th>\n",
              "      <th>Timestamp</th>\n",
              "    </tr>\n",
              "  </thead>\n",
              "  <tbody>\n",
              "    <tr>\n",
              "      <th>0</th>\n",
              "      <td>0xae5eacaf9c6b9111fd53034a602c192a04e082ed</td>\n",
              "      <td>@107</td>\n",
              "      <td>7.9769</td>\n",
              "      <td>986.87</td>\n",
              "      <td>7872.16</td>\n",
              "      <td>BUY</td>\n",
              "      <td>02-12-2024 22:50</td>\n",
              "      <td>0.000000</td>\n",
              "      <td>Buy</td>\n",
              "      <td>0.0</td>\n",
              "      <td>0xec09451986a1874e3a980418412fcd0201f500c95bac...</td>\n",
              "      <td>52017706630</td>\n",
              "      <td>True</td>\n",
              "      <td>0.345404</td>\n",
              "      <td>8.950000e+14</td>\n",
              "      <td>1.730000e+12</td>\n",
              "    </tr>\n",
              "    <tr>\n",
              "      <th>1</th>\n",
              "      <td>0xae5eacaf9c6b9111fd53034a602c192a04e082ed</td>\n",
              "      <td>@107</td>\n",
              "      <td>7.9800</td>\n",
              "      <td>16.00</td>\n",
              "      <td>127.68</td>\n",
              "      <td>BUY</td>\n",
              "      <td>02-12-2024 22:50</td>\n",
              "      <td>986.524596</td>\n",
              "      <td>Buy</td>\n",
              "      <td>0.0</td>\n",
              "      <td>0xec09451986a1874e3a980418412fcd0201f500c95bac...</td>\n",
              "      <td>52017706630</td>\n",
              "      <td>True</td>\n",
              "      <td>0.005600</td>\n",
              "      <td>4.430000e+14</td>\n",
              "      <td>1.730000e+12</td>\n",
              "    </tr>\n",
              "    <tr>\n",
              "      <th>2</th>\n",
              "      <td>0xae5eacaf9c6b9111fd53034a602c192a04e082ed</td>\n",
              "      <td>@107</td>\n",
              "      <td>7.9855</td>\n",
              "      <td>144.09</td>\n",
              "      <td>1150.63</td>\n",
              "      <td>BUY</td>\n",
              "      <td>02-12-2024 22:50</td>\n",
              "      <td>1002.518996</td>\n",
              "      <td>Buy</td>\n",
              "      <td>0.0</td>\n",
              "      <td>0xec09451986a1874e3a980418412fcd0201f500c95bac...</td>\n",
              "      <td>52017706630</td>\n",
              "      <td>True</td>\n",
              "      <td>0.050431</td>\n",
              "      <td>6.600000e+14</td>\n",
              "      <td>1.730000e+12</td>\n",
              "    </tr>\n",
              "    <tr>\n",
              "      <th>3</th>\n",
              "      <td>0xae5eacaf9c6b9111fd53034a602c192a04e082ed</td>\n",
              "      <td>@107</td>\n",
              "      <td>7.9874</td>\n",
              "      <td>142.98</td>\n",
              "      <td>1142.04</td>\n",
              "      <td>BUY</td>\n",
              "      <td>02-12-2024 22:50</td>\n",
              "      <td>1146.558564</td>\n",
              "      <td>Buy</td>\n",
              "      <td>0.0</td>\n",
              "      <td>0xec09451986a1874e3a980418412fcd0201f500c95bac...</td>\n",
              "      <td>52017706630</td>\n",
              "      <td>True</td>\n",
              "      <td>0.050043</td>\n",
              "      <td>1.080000e+15</td>\n",
              "      <td>1.730000e+12</td>\n",
              "    </tr>\n",
              "    <tr>\n",
              "      <th>4</th>\n",
              "      <td>0xae5eacaf9c6b9111fd53034a602c192a04e082ed</td>\n",
              "      <td>@107</td>\n",
              "      <td>7.9894</td>\n",
              "      <td>8.73</td>\n",
              "      <td>69.75</td>\n",
              "      <td>BUY</td>\n",
              "      <td>02-12-2024 22:50</td>\n",
              "      <td>1289.488521</td>\n",
              "      <td>Buy</td>\n",
              "      <td>0.0</td>\n",
              "      <td>0xec09451986a1874e3a980418412fcd0201f500c95bac...</td>\n",
              "      <td>52017706630</td>\n",
              "      <td>True</td>\n",
              "      <td>0.003055</td>\n",
              "      <td>1.050000e+15</td>\n",
              "      <td>1.730000e+12</td>\n",
              "    </tr>\n",
              "  </tbody>\n",
              "</table>\n",
              "</div>\n",
              "    <div class=\"colab-df-buttons\">\n",
              "\n",
              "  <div class=\"colab-df-container\">\n",
              "    <button class=\"colab-df-convert\" onclick=\"convertToInteractive('df-8835145b-d46d-41cf-a960-4eb89f68b730')\"\n",
              "            title=\"Convert this dataframe to an interactive table.\"\n",
              "            style=\"display:none;\">\n",
              "\n",
              "  <svg xmlns=\"http://www.w3.org/2000/svg\" height=\"24px\" viewBox=\"0 -960 960 960\">\n",
              "    <path d=\"M120-120v-720h720v720H120Zm60-500h600v-160H180v160Zm220 220h160v-160H400v160Zm0 220h160v-160H400v160ZM180-400h160v-160H180v160Zm440 0h160v-160H620v160ZM180-180h160v-160H180v160Zm440 0h160v-160H620v160Z\"/>\n",
              "  </svg>\n",
              "    </button>\n",
              "\n",
              "  <style>\n",
              "    .colab-df-container {\n",
              "      display:flex;\n",
              "      gap: 12px;\n",
              "    }\n",
              "\n",
              "    .colab-df-convert {\n",
              "      background-color: #E8F0FE;\n",
              "      border: none;\n",
              "      border-radius: 50%;\n",
              "      cursor: pointer;\n",
              "      display: none;\n",
              "      fill: #1967D2;\n",
              "      height: 32px;\n",
              "      padding: 0 0 0 0;\n",
              "      width: 32px;\n",
              "    }\n",
              "\n",
              "    .colab-df-convert:hover {\n",
              "      background-color: #E2EBFA;\n",
              "      box-shadow: 0px 1px 2px rgba(60, 64, 67, 0.3), 0px 1px 3px 1px rgba(60, 64, 67, 0.15);\n",
              "      fill: #174EA6;\n",
              "    }\n",
              "\n",
              "    .colab-df-buttons div {\n",
              "      margin-bottom: 4px;\n",
              "    }\n",
              "\n",
              "    [theme=dark] .colab-df-convert {\n",
              "      background-color: #3B4455;\n",
              "      fill: #D2E3FC;\n",
              "    }\n",
              "\n",
              "    [theme=dark] .colab-df-convert:hover {\n",
              "      background-color: #434B5C;\n",
              "      box-shadow: 0px 1px 3px 1px rgba(0, 0, 0, 0.15);\n",
              "      filter: drop-shadow(0px 1px 2px rgba(0, 0, 0, 0.3));\n",
              "      fill: #FFFFFF;\n",
              "    }\n",
              "  </style>\n",
              "\n",
              "    <script>\n",
              "      const buttonEl =\n",
              "        document.querySelector('#df-8835145b-d46d-41cf-a960-4eb89f68b730 button.colab-df-convert');\n",
              "      buttonEl.style.display =\n",
              "        google.colab.kernel.accessAllowed ? 'block' : 'none';\n",
              "\n",
              "      async function convertToInteractive(key) {\n",
              "        const element = document.querySelector('#df-8835145b-d46d-41cf-a960-4eb89f68b730');\n",
              "        const dataTable =\n",
              "          await google.colab.kernel.invokeFunction('convertToInteractive',\n",
              "                                                    [key], {});\n",
              "        if (!dataTable) return;\n",
              "\n",
              "        const docLinkHtml = 'Like what you see? Visit the ' +\n",
              "          '<a target=\"_blank\" href=https://colab.research.google.com/notebooks/data_table.ipynb>data table notebook</a>'\n",
              "          + ' to learn more about interactive tables.';\n",
              "        element.innerHTML = '';\n",
              "        dataTable['output_type'] = 'display_data';\n",
              "        await google.colab.output.renderOutput(dataTable, element);\n",
              "        const docLink = document.createElement('div');\n",
              "        docLink.innerHTML = docLinkHtml;\n",
              "        element.appendChild(docLink);\n",
              "      }\n",
              "    </script>\n",
              "  </div>\n",
              "\n",
              "\n",
              "    <div id=\"df-d5b5e71b-d0c2-4453-a543-e1eb61317056\">\n",
              "      <button class=\"colab-df-quickchart\" onclick=\"quickchart('df-d5b5e71b-d0c2-4453-a543-e1eb61317056')\"\n",
              "                title=\"Suggest charts\"\n",
              "                style=\"display:none;\">\n",
              "\n",
              "<svg xmlns=\"http://www.w3.org/2000/svg\" height=\"24px\"viewBox=\"0 0 24 24\"\n",
              "     width=\"24px\">\n",
              "    <g>\n",
              "        <path d=\"M19 3H5c-1.1 0-2 .9-2 2v14c0 1.1.9 2 2 2h14c1.1 0 2-.9 2-2V5c0-1.1-.9-2-2-2zM9 17H7v-7h2v7zm4 0h-2V7h2v10zm4 0h-2v-4h2v4z\"/>\n",
              "    </g>\n",
              "</svg>\n",
              "      </button>\n",
              "\n",
              "<style>\n",
              "  .colab-df-quickchart {\n",
              "      --bg-color: #E8F0FE;\n",
              "      --fill-color: #1967D2;\n",
              "      --hover-bg-color: #E2EBFA;\n",
              "      --hover-fill-color: #174EA6;\n",
              "      --disabled-fill-color: #AAA;\n",
              "      --disabled-bg-color: #DDD;\n",
              "  }\n",
              "\n",
              "  [theme=dark] .colab-df-quickchart {\n",
              "      --bg-color: #3B4455;\n",
              "      --fill-color: #D2E3FC;\n",
              "      --hover-bg-color: #434B5C;\n",
              "      --hover-fill-color: #FFFFFF;\n",
              "      --disabled-bg-color: #3B4455;\n",
              "      --disabled-fill-color: #666;\n",
              "  }\n",
              "\n",
              "  .colab-df-quickchart {\n",
              "    background-color: var(--bg-color);\n",
              "    border: none;\n",
              "    border-radius: 50%;\n",
              "    cursor: pointer;\n",
              "    display: none;\n",
              "    fill: var(--fill-color);\n",
              "    height: 32px;\n",
              "    padding: 0;\n",
              "    width: 32px;\n",
              "  }\n",
              "\n",
              "  .colab-df-quickchart:hover {\n",
              "    background-color: var(--hover-bg-color);\n",
              "    box-shadow: 0 1px 2px rgba(60, 64, 67, 0.3), 0 1px 3px 1px rgba(60, 64, 67, 0.15);\n",
              "    fill: var(--button-hover-fill-color);\n",
              "  }\n",
              "\n",
              "  .colab-df-quickchart-complete:disabled,\n",
              "  .colab-df-quickchart-complete:disabled:hover {\n",
              "    background-color: var(--disabled-bg-color);\n",
              "    fill: var(--disabled-fill-color);\n",
              "    box-shadow: none;\n",
              "  }\n",
              "\n",
              "  .colab-df-spinner {\n",
              "    border: 2px solid var(--fill-color);\n",
              "    border-color: transparent;\n",
              "    border-bottom-color: var(--fill-color);\n",
              "    animation:\n",
              "      spin 1s steps(1) infinite;\n",
              "  }\n",
              "\n",
              "  @keyframes spin {\n",
              "    0% {\n",
              "      border-color: transparent;\n",
              "      border-bottom-color: var(--fill-color);\n",
              "      border-left-color: var(--fill-color);\n",
              "    }\n",
              "    20% {\n",
              "      border-color: transparent;\n",
              "      border-left-color: var(--fill-color);\n",
              "      border-top-color: var(--fill-color);\n",
              "    }\n",
              "    30% {\n",
              "      border-color: transparent;\n",
              "      border-left-color: var(--fill-color);\n",
              "      border-top-color: var(--fill-color);\n",
              "      border-right-color: var(--fill-color);\n",
              "    }\n",
              "    40% {\n",
              "      border-color: transparent;\n",
              "      border-right-color: var(--fill-color);\n",
              "      border-top-color: var(--fill-color);\n",
              "    }\n",
              "    60% {\n",
              "      border-color: transparent;\n",
              "      border-right-color: var(--fill-color);\n",
              "    }\n",
              "    80% {\n",
              "      border-color: transparent;\n",
              "      border-right-color: var(--fill-color);\n",
              "      border-bottom-color: var(--fill-color);\n",
              "    }\n",
              "    90% {\n",
              "      border-color: transparent;\n",
              "      border-bottom-color: var(--fill-color);\n",
              "    }\n",
              "  }\n",
              "</style>\n",
              "\n",
              "      <script>\n",
              "        async function quickchart(key) {\n",
              "          const quickchartButtonEl =\n",
              "            document.querySelector('#' + key + ' button');\n",
              "          quickchartButtonEl.disabled = true;  // To prevent multiple clicks.\n",
              "          quickchartButtonEl.classList.add('colab-df-spinner');\n",
              "          try {\n",
              "            const charts = await google.colab.kernel.invokeFunction(\n",
              "                'suggestCharts', [key], {});\n",
              "          } catch (error) {\n",
              "            console.error('Error during call to suggestCharts:', error);\n",
              "          }\n",
              "          quickchartButtonEl.classList.remove('colab-df-spinner');\n",
              "          quickchartButtonEl.classList.add('colab-df-quickchart-complete');\n",
              "        }\n",
              "        (() => {\n",
              "          let quickchartButtonEl =\n",
              "            document.querySelector('#df-d5b5e71b-d0c2-4453-a543-e1eb61317056 button');\n",
              "          quickchartButtonEl.style.display =\n",
              "            google.colab.kernel.accessAllowed ? 'block' : 'none';\n",
              "        })();\n",
              "      </script>\n",
              "    </div>\n",
              "\n",
              "    </div>\n",
              "  </div>\n"
            ],
            "application/vnd.google.colaboratory.intrinsic+json": {
              "type": "dataframe",
              "variable_name": "df_hist"
            }
          },
          "metadata": {},
          "execution_count": 320
        }
      ]
    },
    {
      "cell_type": "code",
      "source": [
        "#Number of rows and columns in the Bitcoin Market Sentiment Dataset\n",
        "\n",
        "print(f\"Number of rows is {df_greed.shape[0]} and number of columns is {df_greed.shape[1]}\")\n"
      ],
      "metadata": {
        "id": "OYOOGLvVXP7H",
        "colab": {
          "base_uri": "https://localhost:8080/"
        },
        "outputId": "ffd912d0-eef1-40d3-ca44-f935288da11e"
      },
      "execution_count": 321,
      "outputs": [
        {
          "output_type": "stream",
          "name": "stdout",
          "text": [
            "Number of rows is 2644 and number of columns is 4\n"
          ]
        }
      ]
    },
    {
      "cell_type": "code",
      "source": [
        "#Number of rows and columns in the Historical Trader Data from Hyperliquid\n",
        "\n",
        "print(f\"Number of rows is {df_hist.shape[0]} and number of columns is {df_hist.shape[1]}\")\n"
      ],
      "metadata": {
        "colab": {
          "base_uri": "https://localhost:8080/"
        },
        "id": "cm2TlBqqZ605",
        "outputId": "f139a01f-e7a2-4a3d-98f3-1b60f2b3fdcd"
      },
      "execution_count": 322,
      "outputs": [
        {
          "output_type": "stream",
          "name": "stdout",
          "text": [
            "Number of rows is 211224 and number of columns is 16\n"
          ]
        }
      ]
    },
    {
      "cell_type": "markdown",
      "source": [
        "#Data Preprocessing"
      ],
      "metadata": {
        "id": "TdVCtp5MTtif"
      }
    },
    {
      "cell_type": "markdown",
      "source": [
        "## Null Values"
      ],
      "metadata": {
        "id": "u8mBSQL5T0Eu"
      }
    },
    {
      "cell_type": "code",
      "source": [
        "#Checking for Null values in the Bitcoin Market Sentiment Dataset\n",
        "\n",
        "df_greed.isnull().sum()"
      ],
      "metadata": {
        "colab": {
          "base_uri": "https://localhost:8080/",
          "height": 209
        },
        "id": "4Qx2zbM6aOxH",
        "outputId": "04478ceb-8fc7-4c45-eb1e-a59563e70fbe"
      },
      "execution_count": 323,
      "outputs": [
        {
          "output_type": "execute_result",
          "data": {
            "text/plain": [
              "timestamp         0\n",
              "value             0\n",
              "classification    0\n",
              "date              0\n",
              "dtype: int64"
            ],
            "text/html": [
              "<div>\n",
              "<style scoped>\n",
              "    .dataframe tbody tr th:only-of-type {\n",
              "        vertical-align: middle;\n",
              "    }\n",
              "\n",
              "    .dataframe tbody tr th {\n",
              "        vertical-align: top;\n",
              "    }\n",
              "\n",
              "    .dataframe thead th {\n",
              "        text-align: right;\n",
              "    }\n",
              "</style>\n",
              "<table border=\"1\" class=\"dataframe\">\n",
              "  <thead>\n",
              "    <tr style=\"text-align: right;\">\n",
              "      <th></th>\n",
              "      <th>0</th>\n",
              "    </tr>\n",
              "  </thead>\n",
              "  <tbody>\n",
              "    <tr>\n",
              "      <th>timestamp</th>\n",
              "      <td>0</td>\n",
              "    </tr>\n",
              "    <tr>\n",
              "      <th>value</th>\n",
              "      <td>0</td>\n",
              "    </tr>\n",
              "    <tr>\n",
              "      <th>classification</th>\n",
              "      <td>0</td>\n",
              "    </tr>\n",
              "    <tr>\n",
              "      <th>date</th>\n",
              "      <td>0</td>\n",
              "    </tr>\n",
              "  </tbody>\n",
              "</table>\n",
              "</div><br><label><b>dtype:</b> int64</label>"
            ]
          },
          "metadata": {},
          "execution_count": 323
        }
      ]
    },
    {
      "cell_type": "code",
      "source": [
        "#Checking for null values in the historical Trader Data\n",
        "\n",
        "df_hist.isnull().sum()\n"
      ],
      "metadata": {
        "colab": {
          "base_uri": "https://localhost:8080/",
          "height": 585
        },
        "id": "Of6JPifIaq2j",
        "outputId": "8337a665-e294-4371-aeec-8295e4832716"
      },
      "execution_count": 324,
      "outputs": [
        {
          "output_type": "execute_result",
          "data": {
            "text/plain": [
              "Account             0\n",
              "Coin                0\n",
              "Execution Price     0\n",
              "Size Tokens         0\n",
              "Size USD            0\n",
              "Side                0\n",
              "Timestamp IST       0\n",
              "Start Position      0\n",
              "Direction           0\n",
              "Closed PnL          0\n",
              "Transaction Hash    0\n",
              "Order ID            0\n",
              "Crossed             0\n",
              "Fee                 0\n",
              "Trade ID            0\n",
              "Timestamp           0\n",
              "dtype: int64"
            ],
            "text/html": [
              "<div>\n",
              "<style scoped>\n",
              "    .dataframe tbody tr th:only-of-type {\n",
              "        vertical-align: middle;\n",
              "    }\n",
              "\n",
              "    .dataframe tbody tr th {\n",
              "        vertical-align: top;\n",
              "    }\n",
              "\n",
              "    .dataframe thead th {\n",
              "        text-align: right;\n",
              "    }\n",
              "</style>\n",
              "<table border=\"1\" class=\"dataframe\">\n",
              "  <thead>\n",
              "    <tr style=\"text-align: right;\">\n",
              "      <th></th>\n",
              "      <th>0</th>\n",
              "    </tr>\n",
              "  </thead>\n",
              "  <tbody>\n",
              "    <tr>\n",
              "      <th>Account</th>\n",
              "      <td>0</td>\n",
              "    </tr>\n",
              "    <tr>\n",
              "      <th>Coin</th>\n",
              "      <td>0</td>\n",
              "    </tr>\n",
              "    <tr>\n",
              "      <th>Execution Price</th>\n",
              "      <td>0</td>\n",
              "    </tr>\n",
              "    <tr>\n",
              "      <th>Size Tokens</th>\n",
              "      <td>0</td>\n",
              "    </tr>\n",
              "    <tr>\n",
              "      <th>Size USD</th>\n",
              "      <td>0</td>\n",
              "    </tr>\n",
              "    <tr>\n",
              "      <th>Side</th>\n",
              "      <td>0</td>\n",
              "    </tr>\n",
              "    <tr>\n",
              "      <th>Timestamp IST</th>\n",
              "      <td>0</td>\n",
              "    </tr>\n",
              "    <tr>\n",
              "      <th>Start Position</th>\n",
              "      <td>0</td>\n",
              "    </tr>\n",
              "    <tr>\n",
              "      <th>Direction</th>\n",
              "      <td>0</td>\n",
              "    </tr>\n",
              "    <tr>\n",
              "      <th>Closed PnL</th>\n",
              "      <td>0</td>\n",
              "    </tr>\n",
              "    <tr>\n",
              "      <th>Transaction Hash</th>\n",
              "      <td>0</td>\n",
              "    </tr>\n",
              "    <tr>\n",
              "      <th>Order ID</th>\n",
              "      <td>0</td>\n",
              "    </tr>\n",
              "    <tr>\n",
              "      <th>Crossed</th>\n",
              "      <td>0</td>\n",
              "    </tr>\n",
              "    <tr>\n",
              "      <th>Fee</th>\n",
              "      <td>0</td>\n",
              "    </tr>\n",
              "    <tr>\n",
              "      <th>Trade ID</th>\n",
              "      <td>0</td>\n",
              "    </tr>\n",
              "    <tr>\n",
              "      <th>Timestamp</th>\n",
              "      <td>0</td>\n",
              "    </tr>\n",
              "  </tbody>\n",
              "</table>\n",
              "</div><br><label><b>dtype:</b> int64</label>"
            ]
          },
          "metadata": {},
          "execution_count": 324
        }
      ]
    },
    {
      "cell_type": "markdown",
      "source": [
        "Based on the above results, we can see that both the datasets have zero null values."
      ],
      "metadata": {
        "id": "UzlBBoocT3_J"
      }
    },
    {
      "cell_type": "code",
      "source": [
        "#Checking for data duplications in both the datasets\n",
        "\n",
        "print(\"Sentiment data duplicates:\", df_greed.duplicated().sum())\n",
        "print(\"Historical data duplicates:\", df_hist.duplicated().sum())"
      ],
      "metadata": {
        "colab": {
          "base_uri": "https://localhost:8080/"
        },
        "id": "2LH1c9DbbTGw",
        "outputId": "fc0f6a30-f7fe-4308-87af-fd472a647a29"
      },
      "execution_count": 325,
      "outputs": [
        {
          "output_type": "stream",
          "name": "stdout",
          "text": [
            "Sentiment data duplicates: 0\n",
            "Historical data duplicates: 0\n"
          ]
        }
      ]
    },
    {
      "cell_type": "markdown",
      "source": [
        "No data Duplications found."
      ],
      "metadata": {
        "id": "r-dC29ZqUdGz"
      }
    },
    {
      "cell_type": "markdown",
      "source": [
        "# Outliers"
      ],
      "metadata": {
        "id": "aBG6qLbYVbZk"
      }
    },
    {
      "cell_type": "markdown",
      "source": [
        "Exploring the distribution of the 'value' column in df_greed, which represents the daily sentiment score (0–100). This helps in understanding how sentiment values are spread and if there are any potential outliers."
      ],
      "metadata": {
        "id": "HlrH0UGRVfV1"
      }
    },
    {
      "cell_type": "code",
      "source": [
        "#Bitcoin Market Sentiment Dataset\n",
        "\n",
        "#Generates a boxplot\n",
        "\n",
        "plt.figure(figsize=(10,4))\n",
        "plt.subplot(1,2,1)\n",
        "plt.boxplot(df_greed['value'])\n",
        "plt.title(\"Value (Boxplot)\")\n",
        "\n",
        "#Generates a histplot\n",
        "\n",
        "plt.subplot(1,2,2)\n",
        "plt.hist(df_greed['value'], bins=30)\n",
        "plt.title(\"Value (Histogram)\")\n",
        "plt.show()"
      ],
      "metadata": {
        "colab": {
          "base_uri": "https://localhost:8080/",
          "height": 391
        },
        "id": "nK37cBbXcAF7",
        "outputId": "3c751062-32d3-48f8-e84c-b73a7c80378a"
      },
      "execution_count": 326,
      "outputs": [
        {
          "output_type": "display_data",
          "data": {
            "text/plain": [
              "<Figure size 1000x400 with 2 Axes>"
            ],
            "image/png": "[encoded data removed]"
          },
          "metadata": {}
        }
      ]
    },
    {
      "cell_type": "markdown",
      "source": [
        "* The histogram shows how sentiment values are spread across the dataset using 30 bins. Most values fall between 10 and 90, with a few peaks where sentiment tends to concentrate. There aren’t many extremely low or high bars at the edges, which means outlier sentiment values are pretty rare or mostly absent in this sample.\n",
        "\n",
        "\n",
        "* The histogram shows the frequency of sentiment values divided into 30 bins. Most values are fairly evenly spread between 10 and 90, with peaks at several intervals, indicating common sentiment levels. There are no extreme bars at the edges, suggesting that outlier sentiment values are rare or absent in this dataset."
      ],
      "metadata": {
        "id": "FPWlvDC1WhJN"
      }
    },
    {
      "cell_type": "code",
      "source": [
        "# Check percentiles\n",
        "print(df_greed['value'].describe(percentiles=[0.01,0.05,0.95,0.99]))\n",
        "\n"
      ],
      "metadata": {
        "colab": {
          "base_uri": "https://localhost:8080/"
        },
        "id": "2G1IfpKscH3X",
        "outputId": "21be290a-e8a3-4303-d50b-ffe23078a969"
      },
      "execution_count": 327,
      "outputs": [
        {
          "output_type": "stream",
          "name": "stdout",
          "text": [
            "count    2644.000000\n",
            "mean       46.981089\n",
            "std        21.827680\n",
            "min         5.000000\n",
            "1%         10.000000\n",
            "5%         15.000000\n",
            "50%        46.000000\n",
            "95%        82.000000\n",
            "99%        93.000000\n",
            "max        95.000000\n",
            "Name: value, dtype: float64\n"
          ]
        }
      ]
    },
    {
      "cell_type": "markdown",
      "source": [
        "Looking at the stats for the sentiment values: we have 2,644 entries, with an average around 47 and a standard deviation of about 22. Most values fall between 10 and 90, with the median right at 46. Extreme values are rare — the minimum is 5, the maximum is 95, and only a small fraction of values lie below 10 or above 90. This tells us that most of the sentiment scores are pretty moderate."
      ],
      "metadata": {
        "id": "_DLX2_nzgcj1"
      }
    },
    {
      "cell_type": "code",
      "source": [
        "# Historical Data Dataset (df_hist)\n",
        "\n",
        "plt.figure(figsize=(15,4))\n",
        "\n",
        "plt.subplot(1,3,1)\n",
        "plt.boxplot(df_hist['Execution Price'])\n",
        "plt.title(\"Execution Price (Boxplot)\")\n",
        "\n",
        "plt.subplot(1,3,2)\n",
        "plt.hist(df_hist['Size USD'], bins=50)\n",
        "plt.title(\"Trade Size USD (Histogram)\")\n",
        "\n",
        "plt.subplot(1,3,3)\n",
        "plt.hist(df_hist['Closed PnL'], bins=100)\n",
        "plt.title(\"Closed PnL (Histogram)\")\n",
        "plt.show()"
      ],
      "metadata": {
        "colab": {
          "base_uri": "https://localhost:8080/",
          "height": 409
        },
        "id": "2cHZ3q9mcXYQ",
        "outputId": "a82f1754-2d49-471d-80ff-10bb823b6ba9"
      },
      "execution_count": 328,
      "outputs": [
        {
          "output_type": "display_data",
          "data": {
            "text/plain": [
              "<Figure size 1500x400 with 3 Axes>"
            ],
            "image/png": "[encoded data removed]"
          },
          "metadata": {}
        }
      ]
    },
    {
      "cell_type": "markdown",
      "source": [
        "* Execution Price: Shows the distribution of trade prices. Most trades clusters are at the lower end, with a few unusually high or low trades as outliers.\n",
        "\n",
        "* Trade Size USD: The left most tall bar indicates that majority of the trades are very small, with only a few large trades.\n",
        "\n",
        "* Closed PnL:  Most trades cluster around zero, showing that they break even. Only a small number of trades result in large profits or losses, indicating that big gains or losses are rare.\n",
        "\n",
        "\n",
        "Overall: The dataset mainly consists of small, routine trades, with rare extreme values in price, size and PnL."
      ],
      "metadata": {
        "id": "mnaRYMMDmic3"
      }
    },
    {
      "cell_type": "markdown",
      "source": [
        "##Converting to datetime format"
      ],
      "metadata": {
        "id": "QoIFh2rQpG5V"
      }
    },
    {
      "cell_type": "markdown",
      "source": [
        "Converted the timestamp columns in both datasets into datetime format so it makes it easier to work dates. This makes it simple to do things like group by day, plot trends over time, and merge the datasets on dates."
      ],
      "metadata": {
        "id": "0I52GOrJp1M_"
      }
    },
    {
      "cell_type": "code",
      "source": [
        "# Converting the timestamp columns to datetime format\n",
        "\n",
        "df_greed['datetime'] = pd.to_datetime(df_greed['timestamp'], unit='s')\n",
        "\n",
        "df_hist['datetime'] = pd.to_datetime(df_hist['Timestamp'], unit='ms')\n"
      ],
      "metadata": {
        "id": "3cGIMH90uZ0R"
      },
      "execution_count": 329,
      "outputs": []
    },
    {
      "cell_type": "code",
      "source": [
        "df_greed.head(5)\n"
      ],
      "metadata": {
        "colab": {
          "base_uri": "https://localhost:8080/",
          "height": 206
        },
        "id": "2vaIVsi_zvk5",
        "outputId": "33ff1a80-0ecf-4662-d00e-323ffde3480b"
      },
      "execution_count": 330,
      "outputs": [
        {
          "output_type": "execute_result",
          "data": {
            "text/plain": [
              "    timestamp  value classification        date            datetime\n",
              "0  1517463000     30           Fear  2018-02-01 2018-02-01 05:30:00\n",
              "1  1517549400     15   Extreme Fear  2018-02-02 2018-02-02 05:30:00\n",
              "2  1517635800     40           Fear  2018-02-03 2018-02-03 05:30:00\n",
              "3  1517722200     24   Extreme Fear  2018-02-04 2018-02-04 05:30:00\n",
              "4  1517808600     11   Extreme Fear  2018-02-05 2018-02-05 05:30:00"
            ],
            "text/html": [
              "\n",
              "  <div id=\"df-9d61b50b-955d-46f5-881f-b3a73311d666\" class=\"colab-df-container\">\n",
              "    <div>\n",
              "<style scoped>\n",
              "    .dataframe tbody tr th:only-of-type {\n",
              "        vertical-align: middle;\n",
              "    }\n",
              "\n",
              "    .dataframe tbody tr th {\n",
              "        vertical-align: top;\n",
              "    }\n",
              "\n",
              "    .dataframe thead th {\n",
              "        text-align: right;\n",
              "    }\n",
              "</style>\n",
              "<table border=\"1\" class=\"dataframe\">\n",
              "  <thead>\n",
              "    <tr style=\"text-align: right;\">\n",
              "      <th></th>\n",
              "      <th>timestamp</th>\n",
              "      <th>value</th>\n",
              "      <th>classification</th>\n",
              "      <th>date</th>\n",
              "      <th>datetime</th>\n",
              "    </tr>\n",
              "  </thead>\n",
              "  <tbody>\n",
              "    <tr>\n",
              "      <th>0</th>\n",
              "      <td>1517463000</td>\n",
              "      <td>30</td>\n",
              "      <td>Fear</td>\n",
              "      <td>2018-02-01</td>\n",
              "      <td>2018-02-01 05:30:00</td>\n",
              "    </tr>\n",
              "    <tr>\n",
              "      <th>1</th>\n",
              "      <td>1517549400</td>\n",
              "      <td>15</td>\n",
              "      <td>Extreme Fear</td>\n",
              "      <td>2018-02-02</td>\n",
              "      <td>2018-02-02 05:30:00</td>\n",
              "    </tr>\n",
              "    <tr>\n",
              "      <th>2</th>\n",
              "      <td>1517635800</td>\n",
              "      <td>40</td>\n",
              "      <td>Fear</td>\n",
              "      <td>2018-02-03</td>\n",
              "      <td>2018-02-03 05:30:00</td>\n",
              "    </tr>\n",
              "    <tr>\n",
              "      <th>3</th>\n",
              "      <td>1517722200</td>\n",
              "      <td>24</td>\n",
              "      <td>Extreme Fear</td>\n",
              "      <td>2018-02-04</td>\n",
              "      <td>2018-02-04 05:30:00</td>\n",
              "    </tr>\n",
              "    <tr>\n",
              "      <th>4</th>\n",
              "      <td>1517808600</td>\n",
              "      <td>11</td>\n",
              "      <td>Extreme Fear</td>\n",
              "      <td>2018-02-05</td>\n",
              "      <td>2018-02-05 05:30:00</td>\n",
              "    </tr>\n",
              "  </tbody>\n",
              "</table>\n",
              "</div>\n",
              "    <div class=\"colab-df-buttons\">\n",
              "\n",
              "  <div class=\"colab-df-container\">\n",
              "    <button class=\"colab-df-convert\" onclick=\"convertToInteractive('df-9d61b50b-955d-46f5-881f-b3a73311d666')\"\n",
              "            title=\"Convert this dataframe to an interactive table.\"\n",
              "            style=\"display:none;\">\n",
              "\n",
              "  <svg xmlns=\"http://www.w3.org/2000/svg\" height=\"24px\" viewBox=\"0 -960 960 960\">\n",
              "    <path d=\"M120-120v-720h720v720H120Zm60-500h600v-160H180v160Zm220 220h160v-160H400v160Zm0 220h160v-160H400v160ZM180-400h160v-160H180v160Zm440 0h160v-160H620v160ZM180-180h160v-160H180v160Zm440 0h160v-160H620v160Z\"/>\n",
              "  </svg>\n",
              "    </button>\n",
              "\n",
              "  <style>\n",
              "    .colab-df-container {\n",
              "      display:flex;\n",
              "      gap: 12px;\n",
              "    }\n",
              "\n",
              "    .colab-df-convert {\n",
              "      background-color: #E8F0FE;\n",
              "      border: none;\n",
              "      border-radius: 50%;\n",
              "      cursor: pointer;\n",
              "      display: none;\n",
              "      fill: #1967D2;\n",
              "      height: 32px;\n",
              "      padding: 0 0 0 0;\n",
              "      width: 32px;\n",
              "    }\n",
              "\n",
              "    .colab-df-convert:hover {\n",
              "      background-color: #E2EBFA;\n",
              "      box-shadow: 0px 1px 2px rgba(60, 64, 67, 0.3), 0px 1px 3px 1px rgba(60, 64, 67, 0.15);\n",
              "      fill: #174EA6;\n",
              "    }\n",
              "\n",
              "    .colab-df-buttons div {\n",
              "      margin-bottom: 4px;\n",
              "    }\n",
              "\n",
              "    [theme=dark] .colab-df-convert {\n",
              "      background-color: #3B4455;\n",
              "      fill: #D2E3FC;\n",
              "    }\n",
              "\n",
              "    [theme=dark] .colab-df-convert:hover {\n",
              "      background-color: #434B5C;\n",
              "      box-shadow: 0px 1px 3px 1px rgba(0, 0, 0, 0.15);\n",
              "      filter: drop-shadow(0px 1px 2px rgba(0, 0, 0, 0.3));\n",
              "      fill: #FFFFFF;\n",
              "    }\n",
              "  </style>\n",
              "\n",
              "    <script>\n",
              "      const buttonEl =\n",
              "        document.querySelector('#df-9d61b50b-955d-46f5-881f-b3a73311d666 button.colab-df-convert');\n",
              "      buttonEl.style.display =\n",
              "        google.colab.kernel.accessAllowed ? 'block' : 'none';\n",
              "\n",
              "      async function convertToInteractive(key) {\n",
              "        const element = document.querySelector('#df-9d61b50b-955d-46f5-881f-b3a73311d666');\n",
              "        const dataTable =\n",
              "          await google.colab.kernel.invokeFunction('convertToInteractive',\n",
              "                                                    [key], {});\n",
              "        if (!dataTable) return;\n",
              "\n",
              "        const docLinkHtml = 'Like what you see? Visit the ' +\n",
              "          '<a target=\"_blank\" href=https://colab.research.google.com/notebooks/data_table.ipynb>data table notebook</a>'\n",
              "          + ' to learn more about interactive tables.';\n",
              "        element.innerHTML = '';\n",
              "        dataTable['output_type'] = 'display_data';\n",
              "        await google.colab.output.renderOutput(dataTable, element);\n",
              "        const docLink = document.createElement('div');\n",
              "        docLink.innerHTML = docLinkHtml;\n",
              "        element.appendChild(docLink);\n",
              "      }\n",
              "    </script>\n",
              "  </div>\n",
              "\n",
              "\n",
              "    <div id=\"df-35c297d5-6dd5-430a-86c9-3fbd73e22b23\">\n",
              "      <button class=\"colab-df-quickchart\" onclick=\"quickchart('df-35c297d5-6dd5-430a-86c9-3fbd73e22b23')\"\n",
              "                title=\"Suggest charts\"\n",
              "                style=\"display:none;\">\n",
              "\n",
              "<svg xmlns=\"http://www.w3.org/2000/svg\" height=\"24px\"viewBox=\"0 0 24 24\"\n",
              "     width=\"24px\">\n",
              "    <g>\n",
              "        <path d=\"M19 3H5c-1.1 0-2 .9-2 2v14c0 1.1.9 2 2 2h14c1.1 0 2-.9 2-2V5c0-1.1-.9-2-2-2zM9 17H7v-7h2v7zm4 0h-2V7h2v10zm4 0h-2v-4h2v4z\"/>\n",
              "    </g>\n",
              "</svg>\n",
              "      </button>\n",
              "\n",
              "<style>\n",
              "  .colab-df-quickchart {\n",
              "      --bg-color: #E8F0FE;\n",
              "      --fill-color: #1967D2;\n",
              "      --hover-bg-color: #E2EBFA;\n",
              "      --hover-fill-color: #174EA6;\n",
              "      --disabled-fill-color: #AAA;\n",
              "      --disabled-bg-color: #DDD;\n",
              "  }\n",
              "\n",
              "  [theme=dark] .colab-df-quickchart {\n",
              "      --bg-color: #3B4455;\n",
              "      --fill-color: #D2E3FC;\n",
              "      --hover-bg-color: #434B5C;\n",
              "      --hover-fill-color: #FFFFFF;\n",
              "      --disabled-bg-color: #3B4455;\n",
              "      --disabled-fill-color: #666;\n",
              "  }\n",
              "\n",
              "  .colab-df-quickchart {\n",
              "    background-color: var(--bg-color);\n",
              "    border: none;\n",
              "    border-radius: 50%;\n",
              "    cursor: pointer;\n",
              "    display: none;\n",
              "    fill: var(--fill-color);\n",
              "    height: 32px;\n",
              "    padding: 0;\n",
              "    width: 32px;\n",
              "  }\n",
              "\n",
              "  .colab-df-quickchart:hover {\n",
              "    background-color: var(--hover-bg-color);\n",
              "    box-shadow: 0 1px 2px rgba(60, 64, 67, 0.3), 0 1px 3px 1px rgba(60, 64, 67, 0.15);\n",
              "    fill: var(--button-hover-fill-color);\n",
              "  }\n",
              "\n",
              "  .colab-df-quickchart-complete:disabled,\n",
              "  .colab-df-quickchart-complete:disabled:hover {\n",
              "    background-color: var(--disabled-bg-color);\n",
              "    fill: var(--disabled-fill-color);\n",
              "    box-shadow: none;\n",
              "  }\n",
              "\n",
              "  .colab-df-spinner {\n",
              "    border: 2px solid var(--fill-color);\n",
              "    border-color: transparent;\n",
              "    border-bottom-color: var(--fill-color);\n",
              "    animation:\n",
              "      spin 1s steps(1) infinite;\n",
              "  }\n",
              "\n",
              "  @keyframes spin {\n",
              "    0% {\n",
              "      border-color: transparent;\n",
              "      border-bottom-color: var(--fill-color);\n",
              "      border-left-color: var(--fill-color);\n",
              "    }\n",
              "    20% {\n",
              "      border-color: transparent;\n",
              "      border-left-color: var(--fill-color);\n",
              "      border-top-color: var(--fill-color);\n",
              "    }\n",
              "    30% {\n",
              "      border-color: transparent;\n",
              "      border-left-color: var(--fill-color);\n",
              "      border-top-color: var(--fill-color);\n",
              "      border-right-color: var(--fill-color);\n",
              "    }\n",
              "    40% {\n",
              "      border-color: transparent;\n",
              "      border-right-color: var(--fill-color);\n",
              "      border-top-color: var(--fill-color);\n",
              "    }\n",
              "    60% {\n",
              "      border-color: transparent;\n",
              "      border-right-color: var(--fill-color);\n",
              "    }\n",
              "    80% {\n",
              "      border-color: transparent;\n",
              "      border-right-color: var(--fill-color);\n",
              "      border-bottom-color: var(--fill-color);\n",
              "    }\n",
              "    90% {\n",
              "      border-color: transparent;\n",
              "      border-bottom-color: var(--fill-color);\n",
              "    }\n",
              "  }\n",
              "</style>\n",
              "\n",
              "      <script>\n",
              "        async function quickchart(key) {\n",
              "          const quickchartButtonEl =\n",
              "            document.querySelector('#' + key + ' button');\n",
              "          quickchartButtonEl.disabled = true;  // To prevent multiple clicks.\n",
              "          quickchartButtonEl.classList.add('colab-df-spinner');\n",
              "          try {\n",
              "            const charts = await google.colab.kernel.invokeFunction(\n",
              "                'suggestCharts', [key], {});\n",
              "          } catch (error) {\n",
              "            console.error('Error during call to suggestCharts:', error);\n",
              "          }\n",
              "          quickchartButtonEl.classList.remove('colab-df-spinner');\n",
              "          quickchartButtonEl.classList.add('colab-df-quickchart-complete');\n",
              "        }\n",
              "        (() => {\n",
              "          let quickchartButtonEl =\n",
              "            document.querySelector('#df-35c297d5-6dd5-430a-86c9-3fbd73e22b23 button');\n",
              "          quickchartButtonEl.style.display =\n",
              "            google.colab.kernel.accessAllowed ? 'block' : 'none';\n",
              "        })();\n",
              "      </script>\n",
              "    </div>\n",
              "\n",
              "    </div>\n",
              "  </div>\n"
            ],
            "application/vnd.google.colaboratory.intrinsic+json": {
              "type": "dataframe",
              "variable_name": "df_greed",
              "summary": "{\n  \"name\": \"df_greed\",\n  \"rows\": 2644,\n  \"fields\": [\n    {\n      \"column\": \"timestamp\",\n      \"properties\": {\n        \"dtype\": \"number\",\n        \"std\": 65979674,\n        \"min\": 1517463000,\n        \"max\": 1746163800,\n        \"num_unique_values\": 2644,\n        \"samples\": [\n          1594531800,\n          1613626200,\n          1630819800\n        ],\n        \"semantic_type\": \"\",\n        \"description\": \"\"\n      }\n    },\n    {\n      \"column\": \"value\",\n      \"properties\": {\n        \"dtype\": \"number\",\n        \"std\": 21,\n        \"min\": 5,\n        \"max\": 95,\n        \"num_unique_values\": 90,\n        \"samples\": [\n          61,\n          47,\n          65\n        ],\n        \"semantic_type\": \"\",\n        \"description\": \"\"\n      }\n    },\n    {\n      \"column\": \"classification\",\n      \"properties\": {\n        \"dtype\": \"category\",\n        \"num_unique_values\": 5,\n        \"samples\": [\n          \"Extreme Fear\",\n          \"Extreme Greed\",\n          \"Neutral\"\n        ],\n        \"semantic_type\": \"\",\n        \"description\": \"\"\n      }\n    },\n    {\n      \"column\": \"date\",\n      \"properties\": {\n        \"dtype\": \"object\",\n        \"num_unique_values\": 2644,\n        \"samples\": [\n          \"2020-07-12\",\n          \"2021-02-18\",\n          \"2021-09-05\"\n        ],\n        \"semantic_type\": \"\",\n        \"description\": \"\"\n      }\n    },\n    {\n      \"column\": \"datetime\",\n      \"properties\": {\n        \"dtype\": \"date\",\n        \"min\": \"2018-02-01 05:30:00\",\n        \"max\": \"2025-05-02 05:30:00\",\n        \"num_unique_values\": 2644,\n        \"samples\": [\n          \"2020-07-12 05:30:00\",\n          \"2021-02-18 05:30:00\",\n          \"2021-09-05 05:30:00\"\n        ],\n        \"semantic_type\": \"\",\n        \"description\": \"\"\n      }\n    }\n  ]\n}"
            }
          },
          "metadata": {},
          "execution_count": 330
        }
      ]
    },
    {
      "cell_type": "code",
      "source": [
        "# Checking data types for Bitcoin Market Sentiment Dataset\n",
        "\n",
        "df_greed.info()\n"
      ],
      "metadata": {
        "colab": {
          "base_uri": "https://localhost:8080/"
        },
        "id": "G5i4Rd695hEE",
        "outputId": "9a1e794a-f584-4217-e609-14340135313d"
      },
      "execution_count": 331,
      "outputs": [
        {
          "output_type": "stream",
          "name": "stdout",
          "text": [
            "<class 'pandas.core.frame.DataFrame'>\n",
            "RangeIndex: 2644 entries, 0 to 2643\n",
            "Data columns (total 5 columns):\n",
            " #   Column          Non-Null Count  Dtype         \n",
            "---  ------          --------------  -----         \n",
            " 0   timestamp       2644 non-null   int64         \n",
            " 1   value           2644 non-null   int64         \n",
            " 2   classification  2644 non-null   object        \n",
            " 3   date            2644 non-null   object        \n",
            " 4   datetime        2644 non-null   datetime64[ns]\n",
            "dtypes: datetime64[ns](1), int64(2), object(2)\n",
            "memory usage: 103.4+ KB\n"
          ]
        }
      ]
    },
    {
      "cell_type": "code",
      "source": [
        "df_hist.head(5)"
      ],
      "metadata": {
        "colab": {
          "base_uri": "https://localhost:8080/",
          "height": 206
        },
        "id": "XpTt0l32znF8",
        "outputId": "5971d129-f347-4736-a925-d9665cba6f95"
      },
      "execution_count": 332,
      "outputs": [
        {
          "output_type": "execute_result",
          "data": {
            "text/plain": [
              "                                      Account  Coin  Execution Price  \\\n",
              "0  0xae5eacaf9c6b9111fd53034a602c192a04e082ed  @107           7.9769   \n",
              "1  0xae5eacaf9c6b9111fd53034a602c192a04e082ed  @107           7.9800   \n",
              "2  0xae5eacaf9c6b9111fd53034a602c192a04e082ed  @107           7.9855   \n",
              "3  0xae5eacaf9c6b9111fd53034a602c192a04e082ed  @107           7.9874   \n",
              "4  0xae5eacaf9c6b9111fd53034a602c192a04e082ed  @107           7.9894   \n",
              "\n",
              "   Size Tokens  Size USD Side     Timestamp IST  Start Position Direction  \\\n",
              "0       986.87   7872.16  BUY  02-12-2024 22:50        0.000000       Buy   \n",
              "1        16.00    127.68  BUY  02-12-2024 22:50      986.524596       Buy   \n",
              "2       144.09   1150.63  BUY  02-12-2024 22:50     1002.518996       Buy   \n",
              "3       142.98   1142.04  BUY  02-12-2024 22:50     1146.558564       Buy   \n",
              "4         8.73     69.75  BUY  02-12-2024 22:50     1289.488521       Buy   \n",
              "\n",
              "   Closed PnL                                   Transaction Hash     Order ID  \\\n",
              "0         0.0  0xec09451986a1874e3a980418412fcd0201f500c95bac...  52017706630   \n",
              "1         0.0  0xec09451986a1874e3a980418412fcd0201f500c95bac...  52017706630   \n",
              "2         0.0  0xec09451986a1874e3a980418412fcd0201f500c95bac...  52017706630   \n",
              "3         0.0  0xec09451986a1874e3a980418412fcd0201f500c95bac...  52017706630   \n",
              "4         0.0  0xec09451986a1874e3a980418412fcd0201f500c95bac...  52017706630   \n",
              "\n",
              "   Crossed       Fee      Trade ID     Timestamp            datetime  \n",
              "0     True  0.345404  8.950000e+14  1.730000e+12 2024-10-27 03:33:20  \n",
              "1     True  0.005600  4.430000e+14  1.730000e+12 2024-10-27 03:33:20  \n",
              "2     True  0.050431  6.600000e+14  1.730000e+12 2024-10-27 03:33:20  \n",
              "3     True  0.050043  1.080000e+15  1.730000e+12 2024-10-27 03:33:20  \n",
              "4     True  0.003055  1.050000e+15  1.730000e+12 2024-10-27 03:33:20  "
            ],
            "text/html": [
              "\n",
              "  <div id=\"df-471b8ec1-8600-41b0-a5df-d30790f97aa4\" class=\"colab-df-container\">\n",
              "    <div>\n",
              "<style scoped>\n",
              "    .dataframe tbody tr th:only-of-type {\n",
              "        vertical-align: middle;\n",
              "    }\n",
              "\n",
              "    .dataframe tbody tr th {\n",
              "        vertical-align: top;\n",
              "    }\n",
              "\n",
              "    .dataframe thead th {\n",
              "        text-align: right;\n",
              "    }\n",
              "</style>\n",
              "<table border=\"1\" class=\"dataframe\">\n",
              "  <thead>\n",
              "    <tr style=\"text-align: right;\">\n",
              "      <th></th>\n",
              "      <th>Account</th>\n",
              "      <th>Coin</th>\n",
              "      <th>Execution Price</th>\n",
              "      <th>Size Tokens</th>\n",
              "      <th>Size USD</th>\n",
              "      <th>Side</th>\n",
              "      <th>Timestamp IST</th>\n",
              "      <th>Start Position</th>\n",
              "      <th>Direction</th>\n",
              "      <th>Closed PnL</th>\n",
              "      <th>Transaction Hash</th>\n",
              "      <th>Order ID</th>\n",
              "      <th>Crossed</th>\n",
              "      <th>Fee</th>\n",
              "      <th>Trade ID</th>\n",
              "      <th>Timestamp</th>\n",
              "      <th>datetime</th>\n",
              "    </tr>\n",
              "  </thead>\n",
              "  <tbody>\n",
              "    <tr>\n",
              "      <th>0</th>\n",
              "      <td>0xae5eacaf9c6b9111fd53034a602c192a04e082ed</td>\n",
              "      <td>@107</td>\n",
              "      <td>7.9769</td>\n",
              "      <td>986.87</td>\n",
              "      <td>7872.16</td>\n",
              "      <td>BUY</td>\n",
              "      <td>02-12-2024 22:50</td>\n",
              "      <td>0.000000</td>\n",
              "      <td>Buy</td>\n",
              "      <td>0.0</td>\n",
              "      <td>0xec09451986a1874e3a980418412fcd0201f500c95bac...</td>\n",
              "      <td>52017706630</td>\n",
              "      <td>True</td>\n",
              "      <td>0.345404</td>\n",
              "      <td>8.950000e+14</td>\n",
              "      <td>1.730000e+12</td>\n",
              "      <td>2024-10-27 03:33:20</td>\n",
              "    </tr>\n",
              "    <tr>\n",
              "      <th>1</th>\n",
              "      <td>0xae5eacaf9c6b9111fd53034a602c192a04e082ed</td>\n",
              "      <td>@107</td>\n",
              "      <td>7.9800</td>\n",
              "      <td>16.00</td>\n",
              "      <td>127.68</td>\n",
              "      <td>BUY</td>\n",
              "      <td>02-12-2024 22:50</td>\n",
              "      <td>986.524596</td>\n",
              "      <td>Buy</td>\n",
              "      <td>0.0</td>\n",
              "      <td>0xec09451986a1874e3a980418412fcd0201f500c95bac...</td>\n",
              "      <td>52017706630</td>\n",
              "      <td>True</td>\n",
              "      <td>0.005600</td>\n",
              "      <td>4.430000e+14</td>\n",
              "      <td>1.730000e+12</td>\n",
              "      <td>2024-10-27 03:33:20</td>\n",
              "    </tr>\n",
              "    <tr>\n",
              "      <th>2</th>\n",
              "      <td>0xae5eacaf9c6b9111fd53034a602c192a04e082ed</td>\n",
              "      <td>@107</td>\n",
              "      <td>7.9855</td>\n",
              "      <td>144.09</td>\n",
              "      <td>1150.63</td>\n",
              "      <td>BUY</td>\n",
              "      <td>02-12-2024 22:50</td>\n",
              "      <td>1002.518996</td>\n",
              "      <td>Buy</td>\n",
              "      <td>0.0</td>\n",
              "      <td>0xec09451986a1874e3a980418412fcd0201f500c95bac...</td>\n",
              "      <td>52017706630</td>\n",
              "      <td>True</td>\n",
              "      <td>0.050431</td>\n",
              "      <td>6.600000e+14</td>\n",
              "      <td>1.730000e+12</td>\n",
              "      <td>2024-10-27 03:33:20</td>\n",
              "    </tr>\n",
              "    <tr>\n",
              "      <th>3</th>\n",
              "      <td>0xae5eacaf9c6b9111fd53034a602c192a04e082ed</td>\n",
              "      <td>@107</td>\n",
              "      <td>7.9874</td>\n",
              "      <td>142.98</td>\n",
              "      <td>1142.04</td>\n",
              "      <td>BUY</td>\n",
              "      <td>02-12-2024 22:50</td>\n",
              "      <td>1146.558564</td>\n",
              "      <td>Buy</td>\n",
              "      <td>0.0</td>\n",
              "      <td>0xec09451986a1874e3a980418412fcd0201f500c95bac...</td>\n",
              "      <td>52017706630</td>\n",
              "      <td>True</td>\n",
              "      <td>0.050043</td>\n",
              "      <td>1.080000e+15</td>\n",
              "      <td>1.730000e+12</td>\n",
              "      <td>2024-10-27 03:33:20</td>\n",
              "    </tr>\n",
              "    <tr>\n",
              "      <th>4</th>\n",
              "      <td>0xae5eacaf9c6b9111fd53034a602c192a04e082ed</td>\n",
              "      <td>@107</td>\n",
              "      <td>7.9894</td>\n",
              "      <td>8.73</td>\n",
              "      <td>69.75</td>\n",
              "      <td>BUY</td>\n",
              "      <td>02-12-2024 22:50</td>\n",
              "      <td>1289.488521</td>\n",
              "      <td>Buy</td>\n",
              "      <td>0.0</td>\n",
              "      <td>0xec09451986a1874e3a980418412fcd0201f500c95bac...</td>\n",
              "      <td>52017706630</td>\n",
              "      <td>True</td>\n",
              "      <td>0.003055</td>\n",
              "      <td>1.050000e+15</td>\n",
              "      <td>1.730000e+12</td>\n",
              "      <td>2024-10-27 03:33:20</td>\n",
              "    </tr>\n",
              "  </tbody>\n",
              "</table>\n",
              "</div>\n",
              "    <div class=\"colab-df-buttons\">\n",
              "\n",
              "  <div class=\"colab-df-container\">\n",
              "    <button class=\"colab-df-convert\" onclick=\"convertToInteractive('df-471b8ec1-8600-41b0-a5df-d30790f97aa4')\"\n",
              "            title=\"Convert this dataframe to an interactive table.\"\n",
              "            style=\"display:none;\">\n",
              "\n",
              "  <svg xmlns=\"http://www.w3.org/2000/svg\" height=\"24px\" viewBox=\"0 -960 960 960\">\n",
              "    <path d=\"M120-120v-720h720v720H120Zm60-500h600v-160H180v160Zm220 220h160v-160H400v160Zm0 220h160v-160H400v160ZM180-400h160v-160H180v160Zm440 0h160v-160H620v160ZM180-180h160v-160H180v160Zm440 0h160v-160H620v160Z\"/>\n",
              "  </svg>\n",
              "    </button>\n",
              "\n",
              "  <style>\n",
              "    .colab-df-container {\n",
              "      display:flex;\n",
              "      gap: 12px;\n",
              "    }\n",
              "\n",
              "    .colab-df-convert {\n",
              "      background-color: #E8F0FE;\n",
              "      border: none;\n",
              "      border-radius: 50%;\n",
              "      cursor: pointer;\n",
              "      display: none;\n",
              "      fill: #1967D2;\n",
              "      height: 32px;\n",
              "      padding: 0 0 0 0;\n",
              "      width: 32px;\n",
              "    }\n",
              "\n",
              "    .colab-df-convert:hover {\n",
              "      background-color: #E2EBFA;\n",
              "      box-shadow: 0px 1px 2px rgba(60, 64, 67, 0.3), 0px 1px 3px 1px rgba(60, 64, 67, 0.15);\n",
              "      fill: #174EA6;\n",
              "    }\n",
              "\n",
              "    .colab-df-buttons div {\n",
              "      margin-bottom: 4px;\n",
              "    }\n",
              "\n",
              "    [theme=dark] .colab-df-convert {\n",
              "      background-color: #3B4455;\n",
              "      fill: #D2E3FC;\n",
              "    }\n",
              "\n",
              "    [theme=dark] .colab-df-convert:hover {\n",
              "      background-color: #434B5C;\n",
              "      box-shadow: 0px 1px 3px 1px rgba(0, 0, 0, 0.15);\n",
              "      filter: drop-shadow(0px 1px 2px rgba(0, 0, 0, 0.3));\n",
              "      fill: #FFFFFF;\n",
              "    }\n",
              "  </style>\n",
              "\n",
              "    <script>\n",
              "      const buttonEl =\n",
              "        document.querySelector('#df-471b8ec1-8600-41b0-a5df-d30790f97aa4 button.colab-df-convert');\n",
              "      buttonEl.style.display =\n",
              "        google.colab.kernel.accessAllowed ? 'block' : 'none';\n",
              "\n",
              "      async function convertToInteractive(key) {\n",
              "        const element = document.querySelector('#df-471b8ec1-8600-41b0-a5df-d30790f97aa4');\n",
              "        const dataTable =\n",
              "          await google.colab.kernel.invokeFunction('convertToInteractive',\n",
              "                                                    [key], {});\n",
              "        if (!dataTable) return;\n",
              "\n",
              "        const docLinkHtml = 'Like what you see? Visit the ' +\n",
              "          '<a target=\"_blank\" href=https://colab.research.google.com/notebooks/data_table.ipynb>data table notebook</a>'\n",
              "          + ' to learn more about interactive tables.';\n",
              "        element.innerHTML = '';\n",
              "        dataTable['output_type'] = 'display_data';\n",
              "        await google.colab.output.renderOutput(dataTable, element);\n",
              "        const docLink = document.createElement('div');\n",
              "        docLink.innerHTML = docLinkHtml;\n",
              "        element.appendChild(docLink);\n",
              "      }\n",
              "    </script>\n",
              "  </div>\n",
              "\n",
              "\n",
              "    <div id=\"df-7c76f7c7-f4a7-4298-be34-acbd23ecd3b3\">\n",
              "      <button class=\"colab-df-quickchart\" onclick=\"quickchart('df-7c76f7c7-f4a7-4298-be34-acbd23ecd3b3')\"\n",
              "                title=\"Suggest charts\"\n",
              "                style=\"display:none;\">\n",
              "\n",
              "<svg xmlns=\"http://www.w3.org/2000/svg\" height=\"24px\"viewBox=\"0 0 24 24\"\n",
              "     width=\"24px\">\n",
              "    <g>\n",
              "        <path d=\"M19 3H5c-1.1 0-2 .9-2 2v14c0 1.1.9 2 2 2h14c1.1 0 2-.9 2-2V5c0-1.1-.9-2-2-2zM9 17H7v-7h2v7zm4 0h-2V7h2v10zm4 0h-2v-4h2v4z\"/>\n",
              "    </g>\n",
              "</svg>\n",
              "      </button>\n",
              "\n",
              "<style>\n",
              "  .colab-df-quickchart {\n",
              "      --bg-color: #E8F0FE;\n",
              "      --fill-color: #1967D2;\n",
              "      --hover-bg-color: #E2EBFA;\n",
              "      --hover-fill-color: #174EA6;\n",
              "      --disabled-fill-color: #AAA;\n",
              "      --disabled-bg-color: #DDD;\n",
              "  }\n",
              "\n",
              "  [theme=dark] .colab-df-quickchart {\n",
              "      --bg-color: #3B4455;\n",
              "      --fill-color: #D2E3FC;\n",
              "      --hover-bg-color: #434B5C;\n",
              "      --hover-fill-color: #FFFFFF;\n",
              "      --disabled-bg-color: #3B4455;\n",
              "      --disabled-fill-color: #666;\n",
              "  }\n",
              "\n",
              "  .colab-df-quickchart {\n",
              "    background-color: var(--bg-color);\n",
              "    border: none;\n",
              "    border-radius: 50%;\n",
              "    cursor: pointer;\n",
              "    display: none;\n",
              "    fill: var(--fill-color);\n",
              "    height: 32px;\n",
              "    padding: 0;\n",
              "    width: 32px;\n",
              "  }\n",
              "\n",
              "  .colab-df-quickchart:hover {\n",
              "    background-color: var(--hover-bg-color);\n",
              "    box-shadow: 0 1px 2px rgba(60, 64, 67, 0.3), 0 1px 3px 1px rgba(60, 64, 67, 0.15);\n",
              "    fill: var(--button-hover-fill-color);\n",
              "  }\n",
              "\n",
              "  .colab-df-quickchart-complete:disabled,\n",
              "  .colab-df-quickchart-complete:disabled:hover {\n",
              "    background-color: var(--disabled-bg-color);\n",
              "    fill: var(--disabled-fill-color);\n",
              "    box-shadow: none;\n",
              "  }\n",
              "\n",
              "  .colab-df-spinner {\n",
              "    border: 2px solid var(--fill-color);\n",
              "    border-color: transparent;\n",
              "    border-bottom-color: var(--fill-color);\n",
              "    animation:\n",
              "      spin 1s steps(1) infinite;\n",
              "  }\n",
              "\n",
              "  @keyframes spin {\n",
              "    0% {\n",
              "      border-color: transparent;\n",
              "      border-bottom-color: var(--fill-color);\n",
              "      border-left-color: var(--fill-color);\n",
              "    }\n",
              "    20% {\n",
              "      border-color: transparent;\n",
              "      border-left-color: var(--fill-color);\n",
              "      border-top-color: var(--fill-color);\n",
              "    }\n",
              "    30% {\n",
              "      border-color: transparent;\n",
              "      border-left-color: var(--fill-color);\n",
              "      border-top-color: var(--fill-color);\n",
              "      border-right-color: var(--fill-color);\n",
              "    }\n",
              "    40% {\n",
              "      border-color: transparent;\n",
              "      border-right-color: var(--fill-color);\n",
              "      border-top-color: var(--fill-color);\n",
              "    }\n",
              "    60% {\n",
              "      border-color: transparent;\n",
              "      border-right-color: var(--fill-color);\n",
              "    }\n",
              "    80% {\n",
              "      border-color: transparent;\n",
              "      border-right-color: var(--fill-color);\n",
              "      border-bottom-color: var(--fill-color);\n",
              "    }\n",
              "    90% {\n",
              "      border-color: transparent;\n",
              "      border-bottom-color: var(--fill-color);\n",
              "    }\n",
              "  }\n",
              "</style>\n",
              "\n",
              "      <script>\n",
              "        async function quickchart(key) {\n",
              "          const quickchartButtonEl =\n",
              "            document.querySelector('#' + key + ' button');\n",
              "          quickchartButtonEl.disabled = true;  // To prevent multiple clicks.\n",
              "          quickchartButtonEl.classList.add('colab-df-spinner');\n",
              "          try {\n",
              "            const charts = await google.colab.kernel.invokeFunction(\n",
              "                'suggestCharts', [key], {});\n",
              "          } catch (error) {\n",
              "            console.error('Error during call to suggestCharts:', error);\n",
              "          }\n",
              "          quickchartButtonEl.classList.remove('colab-df-spinner');\n",
              "          quickchartButtonEl.classList.add('colab-df-quickchart-complete');\n",
              "        }\n",
              "        (() => {\n",
              "          let quickchartButtonEl =\n",
              "            document.querySelector('#df-7c76f7c7-f4a7-4298-be34-acbd23ecd3b3 button');\n",
              "          quickchartButtonEl.style.display =\n",
              "            google.colab.kernel.accessAllowed ? 'block' : 'none';\n",
              "        })();\n",
              "      </script>\n",
              "    </div>\n",
              "\n",
              "    </div>\n",
              "  </div>\n"
            ],
            "application/vnd.google.colaboratory.intrinsic+json": {
              "type": "dataframe",
              "variable_name": "df_hist"
            }
          },
          "metadata": {},
          "execution_count": 332
        }
      ]
    },
    {
      "cell_type": "code",
      "source": [
        "# Checking data types for Historical Data Dataset\n",
        "\n",
        "df_hist.info()\n"
      ],
      "metadata": {
        "colab": {
          "base_uri": "https://localhost:8080/"
        },
        "id": "pGiZETrFztWc",
        "outputId": "a1ff69c9-1c49-4e60-e4e8-e549867f2859"
      },
      "execution_count": 333,
      "outputs": [
        {
          "output_type": "stream",
          "name": "stdout",
          "text": [
            "<class 'pandas.core.frame.DataFrame'>\n",
            "RangeIndex: 211224 entries, 0 to 211223\n",
            "Data columns (total 17 columns):\n",
            " #   Column            Non-Null Count   Dtype         \n",
            "---  ------            --------------   -----         \n",
            " 0   Account           211224 non-null  object        \n",
            " 1   Coin              211224 non-null  object        \n",
            " 2   Execution Price   211224 non-null  float64       \n",
            " 3   Size Tokens       211224 non-null  float64       \n",
            " 4   Size USD          211224 non-null  float64       \n",
            " 5   Side              211224 non-null  object        \n",
            " 6   Timestamp IST     211224 non-null  object        \n",
            " 7   Start Position    211224 non-null  float64       \n",
            " 8   Direction         211224 non-null  object        \n",
            " 9   Closed PnL        211224 non-null  float64       \n",
            " 10  Transaction Hash  211224 non-null  object        \n",
            " 11  Order ID          211224 non-null  int64         \n",
            " 12  Crossed           211224 non-null  bool          \n",
            " 13  Fee               211224 non-null  float64       \n",
            " 14  Trade ID          211224 non-null  float64       \n",
            " 15  Timestamp         211224 non-null  float64       \n",
            " 16  datetime          211224 non-null  datetime64[ns]\n",
            "dtypes: bool(1), datetime64[ns](1), float64(8), int64(1), object(6)\n",
            "memory usage: 26.0+ MB\n"
          ]
        }
      ]
    },
    {
      "cell_type": "markdown",
      "source": [
        "#Exploratory Data Analysis\n"
      ],
      "metadata": {
        "id": "JcWyqPr85yzr"
      }
    },
    {
      "cell_type": "code",
      "source": [
        "# For Bitcoin Market Sentiment Dataset\n",
        "\n",
        "# Distribution of sentiment values\n",
        "plt.figure(figsize=(8,5))\n",
        "sns.histplot(df_greed['value'], bins=30, kde=True, color='blue')\n",
        "plt.title('Distribution of Bitcoin Sentiment Values')\n",
        "plt.xlabel('Sentiment Value')\n",
        "plt.ylabel('Frequency')\n",
        "plt.show()\n",
        "\n",
        "# Count of sentiment classifications\n",
        "sns.countplot(x='classification', data=df_greed, palette='Set2')\n",
        "plt.title('Sentiment Classification Counts')\n",
        "plt.show()"
      ],
      "metadata": {
        "colab": {
          "base_uri": "https://localhost:8080/",
          "height": 1000
        },
        "id": "qSFINBa359g7",
        "outputId": "ec89507f-8866-48a8-e4e1-644cef5950d8"
      },
      "execution_count": 334,
      "outputs": [
        {
          "output_type": "display_data",
          "data": {
            "text/plain": [
              "<Figure size 800x500 with 1 Axes>"
            ],
            "image/png": "[encoded data removed]"
          },
          "metadata": {}
        },
        {
          "output_type": "stream",
          "name": "stderr",
          "text": [
            "/tmp/ipython-input-3541081667.py:12: FutureWarning: \n",
            "\n",
            "Passing `palette` without assigning `hue` is deprecated and will be removed in v0.14.0. Assign the `x` variable to `hue` and set `legend=False` for the same effect.\n",
            "\n",
            "  sns.countplot(x='classification', data=df_greed, palette='Set2')\n"
          ]
        },
        {
          "output_type": "display_data",
          "data": {
            "text/plain": [
              "<Figure size 640x480 with 1 Axes>"
            ],
            "image/png": "[encoded data removed]"
          },
          "metadata": {}
        }
      ]
    },
    {
      "cell_type": "markdown",
      "source": [
        "* The top diagram shows a histogram of Bitcoin sentiment values with a smooth blue curve over it. The bars show how often each sentiment value appears, while the curve helps highlight the overall pattern. There are multiple peaks,  indicating several clusters in sentiment scores.\n",
        "\n",
        "* The bottom diagram is a simple bar plot of sentiment categories like \"Fear\", \"Extreme Fear\", \"Neutral\", \"Greed\", and \"Extreme Greed\". The height of each bar shows how many times that sentiment occurs. From the plot, \"Fear\" shows up most often, then \"Greed\", followed by \"Extreme Fear\", \"Neutral\", and \"Extreme Greed\". This makes it easy to spot which market sentiments are dominating the conversation."
      ],
      "metadata": {
        "id": "bDFlCxZf3_qb"
      }
    },
    {
      "cell_type": "code",
      "source": [
        "# For Historical Data Dataset\n",
        "\n",
        "# Check distribution of execution prices\n",
        "plt.figure(figsize=(8,5))\n",
        "sns.histplot(df_hist['Execution Price'], bins=30, kde=True, color='green')\n",
        "plt.title('Distribution of Trade Execution Prices')\n",
        "plt.xlabel('Execution Price')\n",
        "plt.ylabel('Frequency')\n",
        "plt.show()\n",
        "\n",
        "# Check distribution of trade sizes in USD\n",
        "plt.figure(figsize=(8,5))\n",
        "sns.histplot(df_hist['Size USD'], bins=30, kde=True, color='orange')\n",
        "plt.title('Distribution of Trade Sizes (USD)')\n",
        "plt.xlabel('Size USD')\n",
        "plt.ylabel('Frequency')\n",
        "plt.show()"
      ],
      "metadata": {
        "colab": {
          "base_uri": "https://localhost:8080/",
          "height": 957
        },
        "id": "HRKhblVU6wjf",
        "outputId": "ec448096-5f57-4128-a9e4-edc1c311c94d"
      },
      "execution_count": 335,
      "outputs": [
        {
          "output_type": "display_data",
          "data": {
            "text/plain": [
              "<Figure size 800x500 with 1 Axes>"
            ],
            "image/png": "[encoded data removed]"
          },
          "metadata": {}
        },
        {
          "output_type": "display_data",
          "data": {
            "text/plain": [
              "<Figure size 800x500 with 1 Axes>"
            ],
            "image/png": "[encoded data removed]"
          },
          "metadata": {}
        }
      ]
    },
    {
      "cell_type": "markdown",
      "source": [
        "* The first histogram shows how trade execution prices are spread out, with a smooth curve on top. The x-axis is the price, and the y-axis shows how often trades happened at that price. Most trades are clustered at really low prices as indicated by the tall bar on the left. Overall, execution prices are mostly low, with some occasional high outliers.\n",
        "\n",
        "* The second histogram shows trade sizes in USD, again with a smooth curve. The x-axis is the trade size, and the y-axis is frequency. Almost all trades are tiny, close to zero (tall bar on the left), and only a handful are much larger. The distribution is very skewed, meaning most trades are small, with rare large ones."
      ],
      "metadata": {
        "id": "HIaewGmX59K_"
      }
    },
    {
      "cell_type": "markdown",
      "source": [
        "##Merging the two datasets"
      ],
      "metadata": {
        "id": "yiKNz1qT681L"
      }
    },
    {
      "cell_type": "code",
      "source": [
        "# For Bitcoin Market Sentiment Dataset\n",
        "\n",
        "#Converting data column to datetime\n",
        "df_greed['date'] = pd.to_datetime(df_greed['date'], errors='coerce')\n",
        "\n",
        "#Dropping rows with invalid dates\n",
        "df_greed = df_greed.dropna(subset=['date'])\n",
        "\n",
        "# Extracting only the date wihtout the time\n",
        "df_greed['date_only'] = df_greed['date'].dt.date\n",
        "\n",
        "# Aggregate daily sentiment\n",
        "daily_sentiment = df_greed.groupby('date_only').agg({\n",
        "    'value': 'mean'\n",
        "}).reset_index()\n",
        "daily_sentiment.rename(columns={'value':'avg_sentiment'}, inplace=True)"
      ],
      "metadata": {
        "id": "uYscAZua9gpG"
      },
      "execution_count": 336,
      "outputs": []
    },
    {
      "cell_type": "code",
      "source": [
        "# For Historical Data Dataset\n",
        "\n",
        "# Converting Timestamp IST column to datetime\n",
        "df_hist['Timestamp IST'] = pd.to_datetime(df_hist['Timestamp IST'], dayfirst=True, errors='coerce')\n",
        "\n",
        "# Drops rows with invalid timestamps\n",
        "df_hist = df_hist.dropna(subset=['Timestamp IST'])\n",
        "\n",
        "# Extracting only the date wihtout the time\n",
        "df_hist['date_only'] = df_hist['Timestamp IST'].dt.date\n",
        "\n",
        "# Aggregate daily trading metrics\n",
        "daily_trades = df_hist.groupby('date_only').agg({\n",
        "    'Execution Price': 'mean',\n",
        "    'Size USD': 'sum',\n",
        "    'Closed PnL': 'sum'\n",
        "}).reset_index()"
      ],
      "metadata": {
        "id": "FtrPF-Uz7f0m"
      },
      "execution_count": 337,
      "outputs": []
    },
    {
      "cell_type": "code",
      "source": [
        "# Merging the two datasets by date\n",
        "merged_data = pd.merge(daily_sentiment, daily_trades, on='date_only', how='inner')\n",
        "merged_data.head()"
      ],
      "metadata": {
        "colab": {
          "base_uri": "https://localhost:8080/",
          "height": 206
        },
        "id": "OcdFNYfI653N",
        "outputId": "90c4551f-be35-4bbe-c3df-cc5fa14d0631"
      },
      "execution_count": 338,
      "outputs": [
        {
          "output_type": "execute_result",
          "data": {
            "text/plain": [
              "    date_only  avg_sentiment  Execution Price   Size USD  Closed PnL\n",
              "0  2023-05-01           63.0      1898.133333     477.00    0.000000\n",
              "1  2023-12-05           75.0     11038.300000   50005.83    0.000000\n",
              "2  2023-12-14           72.0      8031.868818  113203.35 -205.434737\n",
              "3  2023-12-15           70.0         2.982000   10609.95  -24.632034\n",
              "4  2023-12-16           67.0         0.384707   15348.77    0.000000"
            ],
            "text/html": [
              "\n",
              "  <div id=\"df-dc52fc03-5a5d-417a-9643-9bfd687f0792\" class=\"colab-df-container\">\n",
              "    <div>\n",
              "<style scoped>\n",
              "    .dataframe tbody tr th:only-of-type {\n",
              "        vertical-align: middle;\n",
              "    }\n",
              "\n",
              "    .dataframe tbody tr th {\n",
              "        vertical-align: top;\n",
              "    }\n",
              "\n",
              "    .dataframe thead th {\n",
              "        text-align: right;\n",
              "    }\n",
              "</style>\n",
              "<table border=\"1\" class=\"dataframe\">\n",
              "  <thead>\n",
              "    <tr style=\"text-align: right;\">\n",
              "      <th></th>\n",
              "      <th>date_only</th>\n",
              "      <th>avg_sentiment</th>\n",
              "      <th>Execution Price</th>\n",
              "      <th>Size USD</th>\n",
              "      <th>Closed PnL</th>\n",
              "    </tr>\n",
              "  </thead>\n",
              "  <tbody>\n",
              "    <tr>\n",
              "      <th>0</th>\n",
              "      <td>2023-05-01</td>\n",
              "      <td>63.0</td>\n",
              "      <td>1898.133333</td>\n",
              "      <td>477.00</td>\n",
              "      <td>0.000000</td>\n",
              "    </tr>\n",
              "    <tr>\n",
              "      <th>1</th>\n",
              "      <td>2023-12-05</td>\n",
              "      <td>75.0</td>\n",
              "      <td>11038.300000</td>\n",
              "      <td>50005.83</td>\n",
              "      <td>0.000000</td>\n",
              "    </tr>\n",
              "    <tr>\n",
              "      <th>2</th>\n",
              "      <td>2023-12-14</td>\n",
              "      <td>72.0</td>\n",
              "      <td>8031.868818</td>\n",
              "      <td>113203.35</td>\n",
              "      <td>-205.434737</td>\n",
              "    </tr>\n",
              "    <tr>\n",
              "      <th>3</th>\n",
              "      <td>2023-12-15</td>\n",
              "      <td>70.0</td>\n",
              "      <td>2.982000</td>\n",
              "      <td>10609.95</td>\n",
              "      <td>-24.632034</td>\n",
              "    </tr>\n",
              "    <tr>\n",
              "      <th>4</th>\n",
              "      <td>2023-12-16</td>\n",
              "      <td>67.0</td>\n",
              "      <td>0.384707</td>\n",
              "      <td>15348.77</td>\n",
              "      <td>0.000000</td>\n",
              "    </tr>\n",
              "  </tbody>\n",
              "</table>\n",
              "</div>\n",
              "    <div class=\"colab-df-buttons\">\n",
              "\n",
              "  <div class=\"colab-df-container\">\n",
              "    <button class=\"colab-df-convert\" onclick=\"convertToInteractive('df-dc52fc03-5a5d-417a-9643-9bfd687f0792')\"\n",
              "            title=\"Convert this dataframe to an interactive table.\"\n",
              "            style=\"display:none;\">\n",
              "\n",
              "  <svg xmlns=\"http://www.w3.org/2000/svg\" height=\"24px\" viewBox=\"0 -960 960 960\">\n",
              "    <path d=\"M120-120v-720h720v720H120Zm60-500h600v-160H180v160Zm220 220h160v-160H400v160Zm0 220h160v-160H400v160ZM180-400h160v-160H180v160Zm440 0h160v-160H620v160ZM180-180h160v-160H180v160Zm440 0h160v-160H620v160Z\"/>\n",
              "  </svg>\n",
              "    </button>\n",
              "\n",
              "  <style>\n",
              "    .colab-df-container {\n",
              "      display:flex;\n",
              "      gap: 12px;\n",
              "    }\n",
              "\n",
              "    .colab-df-convert {\n",
              "      background-color: #E8F0FE;\n",
              "      border: none;\n",
              "      border-radius: 50%;\n",
              "      cursor: pointer;\n",
              "      display: none;\n",
              "      fill: #1967D2;\n",
              "      height: 32px;\n",
              "      padding: 0 0 0 0;\n",
              "      width: 32px;\n",
              "    }\n",
              "\n",
              "    .colab-df-convert:hover {\n",
              "      background-color: #E2EBFA;\n",
              "      box-shadow: 0px 1px 2px rgba(60, 64, 67, 0.3), 0px 1px 3px 1px rgba(60, 64, 67, 0.15);\n",
              "      fill: #174EA6;\n",
              "    }\n",
              "\n",
              "    .colab-df-buttons div {\n",
              "      margin-bottom: 4px;\n",
              "    }\n",
              "\n",
              "    [theme=dark] .colab-df-convert {\n",
              "      background-color: #3B4455;\n",
              "      fill: #D2E3FC;\n",
              "    }\n",
              "\n",
              "    [theme=dark] .colab-df-convert:hover {\n",
              "      background-color: #434B5C;\n",
              "      box-shadow: 0px 1px 3px 1px rgba(0, 0, 0, 0.15);\n",
              "      filter: drop-shadow(0px 1px 2px rgba(0, 0, 0, 0.3));\n",
              "      fill: #FFFFFF;\n",
              "    }\n",
              "  </style>\n",
              "\n",
              "    <script>\n",
              "      const buttonEl =\n",
              "        document.querySelector('#df-dc52fc03-5a5d-417a-9643-9bfd687f0792 button.colab-df-convert');\n",
              "      buttonEl.style.display =\n",
              "        google.colab.kernel.accessAllowed ? 'block' : 'none';\n",
              "\n",
              "      async function convertToInteractive(key) {\n",
              "        const element = document.querySelector('#df-dc52fc03-5a5d-417a-9643-9bfd687f0792');\n",
              "        const dataTable =\n",
              "          await google.colab.kernel.invokeFunction('convertToInteractive',\n",
              "                                                    [key], {});\n",
              "        if (!dataTable) return;\n",
              "\n",
              "        const docLinkHtml = 'Like what you see? Visit the ' +\n",
              "          '<a target=\"_blank\" href=https://colab.research.google.com/notebooks/data_table.ipynb>data table notebook</a>'\n",
              "          + ' to learn more about interactive tables.';\n",
              "        element.innerHTML = '';\n",
              "        dataTable['output_type'] = 'display_data';\n",
              "        await google.colab.output.renderOutput(dataTable, element);\n",
              "        const docLink = document.createElement('div');\n",
              "        docLink.innerHTML = docLinkHtml;\n",
              "        element.appendChild(docLink);\n",
              "      }\n",
              "    </script>\n",
              "  </div>\n",
              "\n",
              "\n",
              "    <div id=\"df-e2a6fc06-9a05-4427-8fcf-572566ec74c9\">\n",
              "      <button class=\"colab-df-quickchart\" onclick=\"quickchart('df-e2a6fc06-9a05-4427-8fcf-572566ec74c9')\"\n",
              "                title=\"Suggest charts\"\n",
              "                style=\"display:none;\">\n",
              "\n",
              "<svg xmlns=\"http://www.w3.org/2000/svg\" height=\"24px\"viewBox=\"0 0 24 24\"\n",
              "     width=\"24px\">\n",
              "    <g>\n",
              "        <path d=\"M19 3H5c-1.1 0-2 .9-2 2v14c0 1.1.9 2 2 2h14c1.1 0 2-.9 2-2V5c0-1.1-.9-2-2-2zM9 17H7v-7h2v7zm4 0h-2V7h2v10zm4 0h-2v-4h2v4z\"/>\n",
              "    </g>\n",
              "</svg>\n",
              "      </button>\n",
              "\n",
              "<style>\n",
              "  .colab-df-quickchart {\n",
              "      --bg-color: #E8F0FE;\n",
              "      --fill-color: #1967D2;\n",
              "      --hover-bg-color: #E2EBFA;\n",
              "      --hover-fill-color: #174EA6;\n",
              "      --disabled-fill-color: #AAA;\n",
              "      --disabled-bg-color: #DDD;\n",
              "  }\n",
              "\n",
              "  [theme=dark] .colab-df-quickchart {\n",
              "      --bg-color: #3B4455;\n",
              "      --fill-color: #D2E3FC;\n",
              "      --hover-bg-color: #434B5C;\n",
              "      --hover-fill-color: #FFFFFF;\n",
              "      --disabled-bg-color: #3B4455;\n",
              "      --disabled-fill-color: #666;\n",
              "  }\n",
              "\n",
              "  .colab-df-quickchart {\n",
              "    background-color: var(--bg-color);\n",
              "    border: none;\n",
              "    border-radius: 50%;\n",
              "    cursor: pointer;\n",
              "    display: none;\n",
              "    fill: var(--fill-color);\n",
              "    height: 32px;\n",
              "    padding: 0;\n",
              "    width: 32px;\n",
              "  }\n",
              "\n",
              "  .colab-df-quickchart:hover {\n",
              "    background-color: var(--hover-bg-color);\n",
              "    box-shadow: 0 1px 2px rgba(60, 64, 67, 0.3), 0 1px 3px 1px rgba(60, 64, 67, 0.15);\n",
              "    fill: var(--button-hover-fill-color);\n",
              "  }\n",
              "\n",
              "  .colab-df-quickchart-complete:disabled,\n",
              "  .colab-df-quickchart-complete:disabled:hover {\n",
              "    background-color: var(--disabled-bg-color);\n",
              "    fill: var(--disabled-fill-color);\n",
              "    box-shadow: none;\n",
              "  }\n",
              "\n",
              "  .colab-df-spinner {\n",
              "    border: 2px solid var(--fill-color);\n",
              "    border-color: transparent;\n",
              "    border-bottom-color: var(--fill-color);\n",
              "    animation:\n",
              "      spin 1s steps(1) infinite;\n",
              "  }\n",
              "\n",
              "  @keyframes spin {\n",
              "    0% {\n",
              "      border-color: transparent;\n",
              "      border-bottom-color: var(--fill-color);\n",
              "      border-left-color: var(--fill-color);\n",
              "    }\n",
              "    20% {\n",
              "      border-color: transparent;\n",
              "      border-left-color: var(--fill-color);\n",
              "      border-top-color: var(--fill-color);\n",
              "    }\n",
              "    30% {\n",
              "      border-color: transparent;\n",
              "      border-left-color: var(--fill-color);\n",
              "      border-top-color: var(--fill-color);\n",
              "      border-right-color: var(--fill-color);\n",
              "    }\n",
              "    40% {\n",
              "      border-color: transparent;\n",
              "      border-right-color: var(--fill-color);\n",
              "      border-top-color: var(--fill-color);\n",
              "    }\n",
              "    60% {\n",
              "      border-color: transparent;\n",
              "      border-right-color: var(--fill-color);\n",
              "    }\n",
              "    80% {\n",
              "      border-color: transparent;\n",
              "      border-right-color: var(--fill-color);\n",
              "      border-bottom-color: var(--fill-color);\n",
              "    }\n",
              "    90% {\n",
              "      border-color: transparent;\n",
              "      border-bottom-color: var(--fill-color);\n",
              "    }\n",
              "  }\n",
              "</style>\n",
              "\n",
              "      <script>\n",
              "        async function quickchart(key) {\n",
              "          const quickchartButtonEl =\n",
              "            document.querySelector('#' + key + ' button');\n",
              "          quickchartButtonEl.disabled = true;  // To prevent multiple clicks.\n",
              "          quickchartButtonEl.classList.add('colab-df-spinner');\n",
              "          try {\n",
              "            const charts = await google.colab.kernel.invokeFunction(\n",
              "                'suggestCharts', [key], {});\n",
              "          } catch (error) {\n",
              "            console.error('Error during call to suggestCharts:', error);\n",
              "          }\n",
              "          quickchartButtonEl.classList.remove('colab-df-spinner');\n",
              "          quickchartButtonEl.classList.add('colab-df-quickchart-complete');\n",
              "        }\n",
              "        (() => {\n",
              "          let quickchartButtonEl =\n",
              "            document.querySelector('#df-e2a6fc06-9a05-4427-8fcf-572566ec74c9 button');\n",
              "          quickchartButtonEl.style.display =\n",
              "            google.colab.kernel.accessAllowed ? 'block' : 'none';\n",
              "        })();\n",
              "      </script>\n",
              "    </div>\n",
              "\n",
              "    </div>\n",
              "  </div>\n"
            ],
            "application/vnd.google.colaboratory.intrinsic+json": {
              "type": "dataframe",
              "variable_name": "merged_data",
              "summary": "{\n  \"name\": \"merged_data\",\n  \"rows\": 479,\n  \"fields\": [\n    {\n      \"column\": \"date_only\",\n      \"properties\": {\n        \"dtype\": \"date\",\n        \"min\": \"2023-05-01\",\n        \"max\": \"2025-05-01\",\n        \"num_unique_values\": 479,\n        \"samples\": [\n          \"2024-03-25\",\n          \"2024-11-24\",\n          \"2024-02-12\"\n        ],\n        \"semantic_type\": \"\",\n        \"description\": \"\"\n      }\n    },\n    {\n      \"column\": \"avg_sentiment\",\n      \"properties\": {\n        \"dtype\": \"number\",\n        \"std\": 18.68762085092751,\n        \"min\": 10.0,\n        \"max\": 94.0,\n        \"num_unique_values\": 73,\n        \"samples\": [\n          67.0,\n          87.0,\n          48.0\n        ],\n        \"semantic_type\": \"\",\n        \"description\": \"\"\n      }\n    },\n    {\n      \"column\": \"Execution Price\",\n      \"properties\": {\n        \"dtype\": \"number\",\n        \"std\": 17056.339837910222,\n        \"min\": 1.5e-05,\n        \"max\": 68880.0,\n        \"num_unique_values\": 479,\n        \"samples\": [\n          3582.2999999999997,\n          19953.478843476743,\n          28717.7418125\n        ],\n        \"semantic_type\": \"\",\n        \"description\": \"\"\n      }\n    },\n    {\n      \"column\": \"Size USD\",\n      \"properties\": {\n        \"dtype\": \"number\",\n        \"std\": 6290451.598699635,\n        \"min\": 0.11,\n        \"max\": 55914617.49,\n        \"num_unique_values\": 479,\n        \"samples\": [\n          57116.32,\n          664952.28,\n          227247.69999999998\n        ],\n        \"semantic_type\": \"\",\n        \"description\": \"\"\n      }\n    },\n    {\n      \"column\": \"Closed PnL\",\n      \"properties\": {\n        \"dtype\": \"number\",\n        \"std\": 71930.1546605378,\n        \"min\": -419020.225731,\n        \"max\": 616413.032233,\n        \"num_unique_values\": 420,\n        \"samples\": [\n          31.266804999999998,\n          56706.235562,\n          -2960.716887\n        ],\n        \"semantic_type\": \"\",\n        \"description\": \"\"\n      }\n    }\n  ]\n}"
            }
          },
          "metadata": {},
          "execution_count": 338
        }
      ]
    },
    {
      "cell_type": "markdown",
      "source": [
        "The daily sentiment data was merged with the daily trading data to examine the relationship between market sentiment and trading activity. From the merged dataset, avg_sentiment was kept to represent the daily sentiment level, Execution Price as the average trade price, Size USD as the total daily trade volume, and Closed PnL as the total daily profit or loss, serving as the target variable in case of predictive analysis. This combination enables analysis of patterns and supports building a predictive model connecting sentiment with trading outcomes."
      ],
      "metadata": {
        "id": "NFfZXMBmC7s5"
      }
    },
    {
      "cell_type": "code",
      "source": [
        "# Scatter plot: Average Daily Sentiment vs Average Execution Price\n",
        "plt.figure(figsize=(10,5))\n",
        "plt.scatter(merged_data['avg_sentiment'], merged_data['Execution Price'], color='blue', alpha=0.6)\n",
        "plt.title('Average Daily Sentiment vs Average Execution Price')\n",
        "plt.xlabel('Average Sentiment')\n",
        "plt.ylabel('Average Execution Price')\n",
        "plt.grid(True)\n",
        "plt.show()\n",
        "\n",
        "# Scatter plot: Average Daily Sentiment vs Total Closed PnL\n",
        "plt.figure(figsize=(10,5))\n",
        "plt.scatter(merged_data['avg_sentiment'], merged_data['Closed PnL'], color='green', alpha=0.6)\n",
        "plt.title('Average Daily Sentiment vs Total Closed PnL')\n",
        "plt.xlabel('Average Sentiment')\n",
        "plt.ylabel('Total Closed PnL')\n",
        "plt.grid(True)\n",
        "plt.show()"
      ],
      "metadata": {
        "colab": {
          "base_uri": "https://localhost:8080/",
          "height": 957
        },
        "id": "tItAF9cwAn8M",
        "outputId": "e2ada1e3-7bd9-4932-ef45-d996feb96c1a"
      },
      "execution_count": 339,
      "outputs": [
        {
          "output_type": "display_data",
          "data": {
            "text/plain": [
              "<Figure size 1000x500 with 1 Axes>"
            ],
            "image/png": "[encoded data removed]"
          },
          "metadata": {}
        },
        {
          "output_type": "display_data",
          "data": {
            "text/plain": [
              "<Figure size 1000x500 with 1 Axes>"
            ],
            "image/png": "[encoded data removed]"
          },
          "metadata": {}
        }
      ]
    },
    {
      "cell_type": "markdown",
      "source": [
        "* The first plot shows how the daily average sentiment relates to average execution prices. Each blue dot is one day, with sentiment on the x-axis and execution price on the y-axis. Most dots are at lower prices, with a few scattered higher, but there’s no clear trend. This suggests sentiment changes don’t strongly affect execution prices in this dataset.\n",
        "\n",
        "* The second plot shows the relationship between daily sentiment and total closed PnL. Each green dot is a day, x-axis is sentiment, y-axis is total PnL. Most dots are near zero, meaning most trades break even regardless of sentiment. Some dots are far above or below zero, showing big gains or losses, but these extremes aren’t clearly linked to sentiment."
      ],
      "metadata": {
        "id": "l7R6iqkdD6ZG"
      }
    },
    {
      "cell_type": "code",
      "source": [
        "# Calculate correlation between sentiment and trading metrics\n",
        "correlation = merged_data[['avg_sentiment', 'Execution Price', 'Closed PnL']].corr()\n",
        "print(\"Correlation Matrix:\\n\", correlation)"
      ],
      "metadata": {
        "colab": {
          "base_uri": "https://localhost:8080/"
        },
        "id": "JmoXY8RTApyP",
        "outputId": "46e1e35f-a5d1-45d4-be5f-489b355eaece"
      },
      "execution_count": 340,
      "outputs": [
        {
          "output_type": "stream",
          "name": "stdout",
          "text": [
            "Correlation Matrix:\n",
            "                  avg_sentiment  Execution Price  Closed PnL\n",
            "avg_sentiment         1.000000        -0.060238   -0.082642\n",
            "Execution Price      -0.060238         1.000000   -0.024298\n",
            "Closed PnL           -0.082642        -0.024298    1.000000\n"
          ]
        }
      ]
    },
    {
      "cell_type": "markdown",
      "source": [
        "* Avg Sentiment vs Execution Price: -0.06, almost no correlation. Changes in sentiment don’t really match changes in execution price.\n",
        "\n",
        "* Avg Sentiment vs Closed PnL: -0.08, again, very weak negative correlation. Sentiment doesn’t predict profits or losses in this dataset.\n",
        "\n",
        "* Execution Price vs Closed PnL: -0.02, basically no relationship.\n",
        "\n",
        "Overall the correlations are all very close to zero, meaning sentiment, prices, and PnL mostly move independently in this data."
      ],
      "metadata": {
        "id": "eYXu0ndVErw8"
      }
    },
    {
      "cell_type": "markdown",
      "source": [
        "#Model Prediction"
      ],
      "metadata": {
        "id": "tedSuYSMBtLG"
      }
    },
    {
      "cell_type": "markdown",
      "source": [
        "Predictive analysis is not part of the assignment, but have included it just in case to see how sentiment data could be used for forecasting trading outcomes. The idea was to test simple models like Linear Regression and Random Forest to check if sentiment shows any predictive potential."
      ],
      "metadata": {
        "id": "6vA3PWARMB0C"
      }
    },
    {
      "cell_type": "markdown",
      "source": [
        "##Linear Regression"
      ],
      "metadata": {
        "id": "oUAQR_tNOe0S"
      }
    },
    {
      "cell_type": "code",
      "source": [
        "# Feature\n",
        "X = merged_data[['avg_sentiment']]\n",
        "\n",
        "# Target\n",
        "y = merged_data['Closed PnL']"
      ],
      "metadata": {
        "id": "xx0iU5OCBruq"
      },
      "execution_count": 341,
      "outputs": []
    },
    {
      "cell_type": "code",
      "source": [
        "# Split into train and test sets\n",
        "X_train, X_test, y_train, y_test = train_test_split(X, y, test_size=0.2, random_state=42)"
      ],
      "metadata": {
        "id": "rGsWqKljByb7"
      },
      "execution_count": 342,
      "outputs": []
    },
    {
      "cell_type": "code",
      "source": [
        "# Train Linear Regression mode\n",
        "model = LinearRegression()\n",
        "model.fit(X_train, y_train)\n",
        "\n",
        "# Predict on test set\n",
        "y_pred = model.predict(X_test)"
      ],
      "metadata": {
        "id": "hoXz87C0B7vY"
      },
      "execution_count": 343,
      "outputs": []
    },
    {
      "cell_type": "code",
      "source": [
        "# Evaluate model\n",
        "mae = mean_absolute_error(y_test, y_pred)\n",
        "r2 = r2_score(y_test, y_pred)\n",
        "print(f\"Mean Absolute Error (MAE): {mae:.2f}\")\n",
        "print(f\"R^2 Score: {r2:.2f}\")"
      ],
      "metadata": {
        "colab": {
          "base_uri": "https://localhost:8080/"
        },
        "id": "FAAneLf4B_lu",
        "outputId": "78fb8bd4-bc84-40c3-e86d-2dff1eddf52e"
      },
      "execution_count": 344,
      "outputs": [
        {
          "output_type": "stream",
          "name": "stdout",
          "text": [
            "Mean Absolute Error (MAE): 39902.66\n",
            "R^2 Score: 0.01\n"
          ]
        }
      ]
    },
    {
      "cell_type": "markdown",
      "source": [
        "The Linear Regression model gave a Mean Absolute Error (MAE) of 39,902.66 and an R² score of 0.01, which means the model has almost no explanatory power and performs very poorly at predicting outcomes."
      ],
      "metadata": {
        "id": "7dugDQRLNN-_"
      }
    },
    {
      "cell_type": "markdown",
      "source": [
        "##Random Forest"
      ],
      "metadata": {
        "id": "aofDtyA1Oi8i"
      }
    },
    {
      "cell_type": "code",
      "source": [
        "# Features\n",
        "\n",
        "X = merged_data[['avg_sentiment', 'Execution Price', 'Size USD']]\n",
        "\n",
        "#Target\n",
        "y = merged_data['Closed PnL']"
      ],
      "metadata": {
        "id": "JwG0gIj1C0o2"
      },
      "execution_count": 345,
      "outputs": []
    },
    {
      "cell_type": "code",
      "source": [
        "# Split into train and test sets\n",
        "X_train, X_test, y_train, y_test = train_test_split(X, y, test_size=0.2, random_state=42)\n"
      ],
      "metadata": {
        "id": "v_tSNnT2C1vD"
      },
      "execution_count": 346,
      "outputs": []
    },
    {
      "cell_type": "code",
      "source": [
        "# Train Random Forest\n",
        "rf_model = RandomForestRegressor(n_estimators=100, max_depth=5, random_state=42)\n",
        "rf_model.fit(X_train, y_train)\n",
        "\n",
        "# Predict on test test\n",
        "y_pred = rf_model.predict(X_test)\n"
      ],
      "metadata": {
        "id": "DSrAk6bjDBQi"
      },
      "execution_count": 347,
      "outputs": []
    },
    {
      "cell_type": "code",
      "source": [
        "# Evaluate\n",
        "mae = mean_absolute_error(y_test, y_pred)\n",
        "r2 = r2_score(y_test, y_pred)\n",
        "print(f\"Mean Absolute Error (MAE): {mae:.2f}\")\n",
        "print(f\"R^2 Score: {r2:.2f}\")"
      ],
      "metadata": {
        "colab": {
          "base_uri": "https://localhost:8080/"
        },
        "id": "kK98dP3pDIJr",
        "outputId": "185c5d48-bc85-494d-9560-f0dc7669d48f"
      },
      "execution_count": 348,
      "outputs": [
        {
          "output_type": "stream",
          "name": "stdout",
          "text": [
            "Mean Absolute Error (MAE): 32444.43\n",
            "R^2 Score: -0.02\n"
          ]
        }
      ]
    },
    {
      "cell_type": "markdown",
      "source": [
        "The Random Forest model resulted in a Mean Absolute Error (MAE) of 32,444.43 and an R² score of -0.02, showing that it performed even worse than a simple baseline, indicating it could not capture any meaningful relationship in the data."
      ],
      "metadata": {
        "id": "bpqnhzYBNVvr"
      }
    },
    {
      "cell_type": "markdown",
      "source": [
        "For linear regression, only average sentiment was used as the feature to predict Closed PnL. Since sentiment alone doesn’t directly drive profits or losses, the model basically struggled and ended up with almost no predictive power.\n",
        "\n",
        "For random forest, more features were added (sentiment, execution price, and trade size), but even then the results stayed poor. This suggests that the relationship between these features and PnL is either too weak, too noisy, or influenced by many other missing factors.\n",
        "\n",
        "In short, both models underperformed because the features chosen don’t capture the real drivers of profit and loss, which indicates that sentiment and basic trade stats alone aren’t enough to explain PnL movements."
      ],
      "metadata": {
        "id": "UsL5Le_MOBsw"
      }
    },
    {
      "cell_type": "markdown",
      "source": [
        "#Conclusion and Future ideas\n",
        "\n",
        "Overall, the analysis showed how Bitcoin sentiment data and trading data can be processed, explored, and compared. The visualisations made it clear that both sentiment values and trading activity are often skewed and concentrated, with some noticeable outliers. When the datasets were merged, it allowed to study how sentiment connects with market metrics like execution price, trade size, and PnL — but the correlation turned out to be very weak. Scatter plots and correlation checks confirmed that sentiment on its own doesn’t strongly explain trading outcomes. Predictive models were also tried, but results showed that the chosen features weren’t enough to make reliable predictions.\n",
        "\n",
        "## Future plans\n",
        "\n",
        "For the future, this work can be improved by bringing in more features like market volatility, volume trends, external news events etc. Using larger datasets over longer time periods and applying advanced models like LSTMs could also give better insights.\n",
        "\n",
        "Overall, the project sets a good foundation for understanding how sentiment data interacts with financial metrics, but there’s room to build deeper models and stronger connections in future studies."
      ],
      "metadata": {
        "id": "IiV2txk9Odpv"
      }
    }
  ]
}